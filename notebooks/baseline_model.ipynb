{
 "cells": [
  {
   "cell_type": "code",
   "execution_count": 1,
   "metadata": {},
   "outputs": [],
   "source": [
    "import pandas as pd \n",
    "\n",
    "DATAPATH = \"../data/processed/cleaned_data.csv\""
   ]
  },
  {
   "cell_type": "code",
   "execution_count": null,
   "metadata": {},
   "outputs": [],
   "source": []
  },
  {
   "cell_type": "code",
   "execution_count": 2,
   "metadata": {},
   "outputs": [
    {
     "data": {
      "text/html": [
       "<div>\n",
       "<style scoped>\n",
       "    .dataframe tbody tr th:only-of-type {\n",
       "        vertical-align: middle;\n",
       "    }\n",
       "\n",
       "    .dataframe tbody tr th {\n",
       "        vertical-align: top;\n",
       "    }\n",
       "\n",
       "    .dataframe thead th {\n",
       "        text-align: right;\n",
       "    }\n",
       "</style>\n",
       "<table border=\"1\" class=\"dataframe\">\n",
       "  <thead>\n",
       "    <tr style=\"text-align: right;\">\n",
       "      <th></th>\n",
       "      <th>HourUTC</th>\n",
       "      <th>HourDK</th>\n",
       "      <th>PriceArea</th>\n",
       "      <th>ConsumerType_DE35</th>\n",
       "      <th>TotalCon</th>\n",
       "    </tr>\n",
       "  </thead>\n",
       "  <tbody>\n",
       "    <tr>\n",
       "      <th>0</th>\n",
       "      <td>2023-06-30 21:00:00</td>\n",
       "      <td>2023-06-30 23:00</td>\n",
       "      <td>DK1</td>\n",
       "      <td>111</td>\n",
       "      <td>65920.0</td>\n",
       "    </tr>\n",
       "    <tr>\n",
       "      <th>1</th>\n",
       "      <td>2023-06-30 21:00:00</td>\n",
       "      <td>2023-06-30 23:00</td>\n",
       "      <td>DK2</td>\n",
       "      <td>111</td>\n",
       "      <td>47018.0</td>\n",
       "    </tr>\n",
       "    <tr>\n",
       "      <th>2</th>\n",
       "      <td>2023-06-30 21:00:00</td>\n",
       "      <td>2023-06-30 23:00</td>\n",
       "      <td>DK1</td>\n",
       "      <td>112</td>\n",
       "      <td>1313.0</td>\n",
       "    </tr>\n",
       "    <tr>\n",
       "      <th>3</th>\n",
       "      <td>2023-06-30 21:00:00</td>\n",
       "      <td>2023-06-30 23:00</td>\n",
       "      <td>DK2</td>\n",
       "      <td>112</td>\n",
       "      <td>933.0</td>\n",
       "    </tr>\n",
       "    <tr>\n",
       "      <th>4</th>\n",
       "      <td>2023-06-30 21:00:00</td>\n",
       "      <td>2023-06-30 23:00</td>\n",
       "      <td>DK1</td>\n",
       "      <td>119</td>\n",
       "      <td>21806.0</td>\n",
       "    </tr>\n",
       "  </tbody>\n",
       "</table>\n",
       "</div>"
      ],
      "text/plain": [
       "               HourUTC            HourDK PriceArea  ConsumerType_DE35  \\\n",
       "0  2023-06-30 21:00:00  2023-06-30 23:00       DK1                111   \n",
       "1  2023-06-30 21:00:00  2023-06-30 23:00       DK2                111   \n",
       "2  2023-06-30 21:00:00  2023-06-30 23:00       DK1                112   \n",
       "3  2023-06-30 21:00:00  2023-06-30 23:00       DK2                112   \n",
       "4  2023-06-30 21:00:00  2023-06-30 23:00       DK1                119   \n",
       "\n",
       "   TotalCon  \n",
       "0   65920.0  \n",
       "1   47018.0  \n",
       "2    1313.0  \n",
       "3     933.0  \n",
       "4   21806.0  "
      ]
     },
     "execution_count": 2,
     "metadata": {},
     "output_type": "execute_result"
    }
   ],
   "source": [
    "df = pd.read_csv(DATAPATH)\n",
    "df.head()"
   ]
  },
  {
   "cell_type": "markdown",
   "metadata": {},
   "source": [
    "# Preprocess Data"
   ]
  },
  {
   "cell_type": "code",
   "execution_count": 6,
   "metadata": {},
   "outputs": [],
   "source": [
    "df = df.dropna()"
   ]
  },
  {
   "cell_type": "code",
   "execution_count": 7,
   "metadata": {},
   "outputs": [],
   "source": [
    "df['TotalCon'] = df['TotalCon'].astype(int)"
   ]
  },
  {
   "cell_type": "code",
   "execution_count": 8,
   "metadata": {},
   "outputs": [
    {
     "data": {
      "text/html": [
       "<div>\n",
       "<style scoped>\n",
       "    .dataframe tbody tr th:only-of-type {\n",
       "        vertical-align: middle;\n",
       "    }\n",
       "\n",
       "    .dataframe tbody tr th {\n",
       "        vertical-align: top;\n",
       "    }\n",
       "\n",
       "    .dataframe thead th {\n",
       "        text-align: right;\n",
       "    }\n",
       "</style>\n",
       "<table border=\"1\" class=\"dataframe\">\n",
       "  <thead>\n",
       "    <tr style=\"text-align: right;\">\n",
       "      <th></th>\n",
       "      <th>HourUTC</th>\n",
       "      <th>HourDK</th>\n",
       "      <th>PriceArea</th>\n",
       "      <th>ConsumerType_DE35</th>\n",
       "      <th>TotalCon</th>\n",
       "    </tr>\n",
       "  </thead>\n",
       "  <tbody>\n",
       "    <tr>\n",
       "      <th>0</th>\n",
       "      <td>2023-06-30 21:00:00</td>\n",
       "      <td>2023-06-30 23:00</td>\n",
       "      <td>DK1</td>\n",
       "      <td>111</td>\n",
       "      <td>65920</td>\n",
       "    </tr>\n",
       "    <tr>\n",
       "      <th>1</th>\n",
       "      <td>2023-06-30 21:00:00</td>\n",
       "      <td>2023-06-30 23:00</td>\n",
       "      <td>DK2</td>\n",
       "      <td>111</td>\n",
       "      <td>47018</td>\n",
       "    </tr>\n",
       "    <tr>\n",
       "      <th>2</th>\n",
       "      <td>2023-06-30 21:00:00</td>\n",
       "      <td>2023-06-30 23:00</td>\n",
       "      <td>DK1</td>\n",
       "      <td>112</td>\n",
       "      <td>1313</td>\n",
       "    </tr>\n",
       "    <tr>\n",
       "      <th>3</th>\n",
       "      <td>2023-06-30 21:00:00</td>\n",
       "      <td>2023-06-30 23:00</td>\n",
       "      <td>DK2</td>\n",
       "      <td>112</td>\n",
       "      <td>933</td>\n",
       "    </tr>\n",
       "    <tr>\n",
       "      <th>4</th>\n",
       "      <td>2023-06-30 21:00:00</td>\n",
       "      <td>2023-06-30 23:00</td>\n",
       "      <td>DK1</td>\n",
       "      <td>119</td>\n",
       "      <td>21806</td>\n",
       "    </tr>\n",
       "  </tbody>\n",
       "</table>\n",
       "</div>"
      ],
      "text/plain": [
       "               HourUTC            HourDK PriceArea  ConsumerType_DE35  \\\n",
       "0  2023-06-30 21:00:00  2023-06-30 23:00       DK1                111   \n",
       "1  2023-06-30 21:00:00  2023-06-30 23:00       DK2                111   \n",
       "2  2023-06-30 21:00:00  2023-06-30 23:00       DK1                112   \n",
       "3  2023-06-30 21:00:00  2023-06-30 23:00       DK2                112   \n",
       "4  2023-06-30 21:00:00  2023-06-30 23:00       DK1                119   \n",
       "\n",
       "   TotalCon  \n",
       "0     65920  \n",
       "1     47018  \n",
       "2      1313  \n",
       "3       933  \n",
       "4     21806  "
      ]
     },
     "execution_count": 8,
     "metadata": {},
     "output_type": "execute_result"
    }
   ],
   "source": [
    "df.head()"
   ]
  },
  {
   "cell_type": "markdown",
   "metadata": {},
   "source": [
    "## Reshape $y\\hat{}$"
   ]
  },
  {
   "cell_type": "code",
   "execution_count": 9,
   "metadata": {},
   "outputs": [],
   "source": [
    "# Assuming your DataFrame is named 'df'\n",
    "column = df['PriceArea']\n",
    "\n",
    "# Reshape the column into (-1, 1)\n",
    "reshaped_column = column.values.reshape(-1, 1)"
   ]
  },
  {
   "cell_type": "code",
   "execution_count": 10,
   "metadata": {},
   "outputs": [
    {
     "data": {
      "text/plain": [
       "array([['DK1'],\n",
       "       ['DK2'],\n",
       "       ['DK1'],\n",
       "       ...,\n",
       "       ['DK2'],\n",
       "       ['DK1'],\n",
       "       ['DK1']], dtype=object)"
      ]
     },
     "execution_count": 10,
     "metadata": {},
     "output_type": "execute_result"
    }
   ],
   "source": [
    "reshaped_column"
   ]
  },
  {
   "cell_type": "code",
   "execution_count": null,
   "metadata": {},
   "outputs": [],
   "source": []
  },
  {
   "cell_type": "markdown",
   "metadata": {},
   "source": [
    "## Categorical Encoding"
   ]
  },
  {
   "cell_type": "code",
   "execution_count": 11,
   "metadata": {},
   "outputs": [],
   "source": [
    "from sklearn.preprocessing import OrdinalEncoder\n",
    "\n",
    "# Create an instance of the OrdinalEncoder\n",
    "encoder = OrdinalEncoder()\n",
    "\n",
    "# Fit and transform the categorical columns\n",
    "encoded_data = encoder.fit_transform(reshaped_column)"
   ]
  },
  {
   "cell_type": "code",
   "execution_count": 12,
   "metadata": {},
   "outputs": [
    {
     "data": {
      "text/plain": [
       "array([[0.],\n",
       "       [1.],\n",
       "       [0.],\n",
       "       ...,\n",
       "       [1.],\n",
       "       [0.],\n",
       "       [0.]])"
      ]
     },
     "execution_count": 12,
     "metadata": {},
     "output_type": "execute_result"
    }
   ],
   "source": [
    "encoded_data"
   ]
  },
  {
   "cell_type": "markdown",
   "metadata": {},
   "source": [
    "# Model Selection Condition \n",
    "## Check Stationary of Dataset (Unit Root Testing) \n",
    "\n",
    "* Follow this guide: https://stackoverflow.com/questions/63517126/any-way-to-predict-monthly-time-series-with-scikit-learn-in-python\n",
    "\n",
    "* Unit Root Testing: http://bashtage.github.io/arch/doc/unitroot/unitroot_examples.html\n",
    "\n",
    "\n",
    "TLDR: Check if the data is unpredictable or not"
   ]
  },
  {
   "cell_type": "markdown",
   "metadata": {},
   "source": [
    "## KPSS \n",
    "#### TODO: Check if valid KPSS assumptions"
   ]
  },
  {
   "cell_type": "markdown",
   "metadata": {},
   "source": [
    "#### Testing  "
   ]
  },
  {
   "cell_type": "code",
   "execution_count": null,
   "metadata": {},
   "outputs": [],
   "source": []
  },
  {
   "cell_type": "code",
   "execution_count": 13,
   "metadata": {},
   "outputs": [],
   "source": [
    "from arch.unitroot import KPSS"
   ]
  },
  {
   "cell_type": "code",
   "execution_count": 14,
   "metadata": {},
   "outputs": [],
   "source": [
    "kpss_test = KPSS(df['TotalCon'])"
   ]
  },
  {
   "cell_type": "code",
   "execution_count": 16,
   "metadata": {},
   "outputs": [
    {
     "name": "stdout",
     "output_type": "stream",
     "text": [
      "    KPSS Stationarity Test Results   \n",
      "=====================================\n",
      "Test Statistic                  7.111\n",
      "P-value                         0.000\n",
      "Lags                             2298\n",
      "-------------------------------------\n",
      "\n",
      "Trend: Constant\n",
      "Critical Values: 0.74 (1%), 0.46 (5%), 0.35 (10%)\n",
      "Null Hypothesis: The process is weakly stationary.\n",
      "Alternative Hypothesis: The process contains a unit root.\n"
     ]
    }
   ],
   "source": [
    "print(kpss_test.summary().as_text())"
   ]
  },
  {
   "cell_type": "markdown",
   "metadata": {},
   "source": [
    "## ADF\n",
    "\n",
    "Ref: http://bashtage.github.io/arch/doc/unitroot/unitroot_examples.html"
   ]
  },
  {
   "cell_type": "markdown",
   "metadata": {},
   "source": [
    "#### TODO: Check if valid ADF assumptions"
   ]
  },
  {
   "cell_type": "markdown",
   "metadata": {},
   "source": [
    "#### Testing"
   ]
  },
  {
   "cell_type": "code",
   "execution_count": 19,
   "metadata": {},
   "outputs": [
    {
     "name": "stdout",
     "output_type": "stream",
     "text": [
      "   Augmented Dickey-Fuller Results   \n",
      "=====================================\n",
      "Test Statistic                -28.932\n",
      "P-value                         0.000\n",
      "Lags                              126\n",
      "-------------------------------------\n",
      "\n",
      "Trend: Constant\n",
      "Critical Values: -3.43 (1%), -2.86 (5%), -2.57 (10%)\n",
      "Null Hypothesis: The process contains a unit root.\n",
      "Alternative Hypothesis: The process is weakly stationary.\n"
     ]
    },
    {
     "name": "stderr",
     "output_type": "stream",
     "text": [
      "/media/ubuntu_data/cs2215-ECD-mlops/.venv/lib/python3.10/site-packages/arch/unitroot/unitroot.py:776: FutureWarning: Series.__getitem__ treating keys as positions is deprecated. In a future version, integer keys will always be treated as labels (consistent with DataFrame behavior). To access a value by position, use `ser.iloc[pos]`\n",
      "  self._stat = stat = resols.tvalues[0]\n"
     ]
    }
   ],
   "source": [
    "from arch.unitroot import ADF\n",
    "\n",
    "adf = ADF(df['TotalCon'])\n",
    "print(adf.summary().as_text())"
   ]
  },
  {
   "cell_type": "code",
   "execution_count": null,
   "metadata": {},
   "outputs": [],
   "source": []
  },
  {
   "cell_type": "code",
   "execution_count": null,
   "metadata": {},
   "outputs": [],
   "source": []
  },
  {
   "cell_type": "code",
   "execution_count": null,
   "metadata": {},
   "outputs": [],
   "source": []
  },
  {
   "cell_type": "markdown",
   "metadata": {},
   "source": [
    "# Baseline Model"
   ]
  },
  {
   "cell_type": "markdown",
   "metadata": {},
   "source": [
    "## Load & Setup Dataset "
   ]
  },
  {
   "cell_type": "code",
   "execution_count": 1,
   "metadata": {},
   "outputs": [
    {
     "data": {
      "text/html": [
       "<div>\n",
       "<style scoped>\n",
       "    .dataframe tbody tr th:only-of-type {\n",
       "        vertical-align: middle;\n",
       "    }\n",
       "\n",
       "    .dataframe tbody tr th {\n",
       "        vertical-align: top;\n",
       "    }\n",
       "\n",
       "    .dataframe thead th {\n",
       "        text-align: right;\n",
       "    }\n",
       "</style>\n",
       "<table border=\"1\" class=\"dataframe\">\n",
       "  <thead>\n",
       "    <tr style=\"text-align: right;\">\n",
       "      <th></th>\n",
       "      <th>HourUTC</th>\n",
       "      <th>HourDK</th>\n",
       "      <th>PriceArea</th>\n",
       "      <th>ConsumerType_DE35</th>\n",
       "      <th>TotalCon</th>\n",
       "    </tr>\n",
       "  </thead>\n",
       "  <tbody>\n",
       "    <tr>\n",
       "      <th>0</th>\n",
       "      <td>2023-06-30 21:00:00</td>\n",
       "      <td>2023-06-30 23:00</td>\n",
       "      <td>DK1</td>\n",
       "      <td>111</td>\n",
       "      <td>65920.0</td>\n",
       "    </tr>\n",
       "    <tr>\n",
       "      <th>1</th>\n",
       "      <td>2023-06-30 21:00:00</td>\n",
       "      <td>2023-06-30 23:00</td>\n",
       "      <td>DK2</td>\n",
       "      <td>111</td>\n",
       "      <td>47018.0</td>\n",
       "    </tr>\n",
       "    <tr>\n",
       "      <th>2</th>\n",
       "      <td>2023-06-30 21:00:00</td>\n",
       "      <td>2023-06-30 23:00</td>\n",
       "      <td>DK1</td>\n",
       "      <td>112</td>\n",
       "      <td>1313.0</td>\n",
       "    </tr>\n",
       "    <tr>\n",
       "      <th>3</th>\n",
       "      <td>2023-06-30 21:00:00</td>\n",
       "      <td>2023-06-30 23:00</td>\n",
       "      <td>DK2</td>\n",
       "      <td>112</td>\n",
       "      <td>933.0</td>\n",
       "    </tr>\n",
       "    <tr>\n",
       "      <th>4</th>\n",
       "      <td>2023-06-30 21:00:00</td>\n",
       "      <td>2023-06-30 23:00</td>\n",
       "      <td>DK1</td>\n",
       "      <td>119</td>\n",
       "      <td>21806.0</td>\n",
       "    </tr>\n",
       "  </tbody>\n",
       "</table>\n",
       "</div>"
      ],
      "text/plain": [
       "               HourUTC            HourDK PriceArea  ConsumerType_DE35  \\\n",
       "0  2023-06-30 21:00:00  2023-06-30 23:00       DK1                111   \n",
       "1  2023-06-30 21:00:00  2023-06-30 23:00       DK2                111   \n",
       "2  2023-06-30 21:00:00  2023-06-30 23:00       DK1                112   \n",
       "3  2023-06-30 21:00:00  2023-06-30 23:00       DK2                112   \n",
       "4  2023-06-30 21:00:00  2023-06-30 23:00       DK1                119   \n",
       "\n",
       "   TotalCon  \n",
       "0   65920.0  \n",
       "1   47018.0  \n",
       "2    1313.0  \n",
       "3     933.0  \n",
       "4   21806.0  "
      ]
     },
     "execution_count": 1,
     "metadata": {},
     "output_type": "execute_result"
    }
   ],
   "source": [
    "import pandas as pd \n",
    "import matplotlib.pyplot as plt  \n",
    "from sklearn.preprocessing import OneHotEncoder\n",
    "from sklearn.compose import ColumnTransformer\n",
    "from sklearn.pipeline import Pipeline\n",
    "from sklearn.metrics import mean_absolute_error, mean_squared_error, r2_score\n",
    "\n",
    "\n",
    "DATA_PATH = \"../data/processed/cleaned_data_30Sep2023.csv\" \n",
    "df = pd.read_csv(DATA_PATH)\n",
    "df.head()"
   ]
  },
  {
   "cell_type": "code",
   "execution_count": 2,
   "metadata": {},
   "outputs": [
    {
     "name": "stdout",
     "output_type": "stream",
     "text": [
      "               HourUTC            HourDK PriceArea  ConsumerType_DE35  TotalCon\n",
      "0  2023-06-30 21:00:00  2023-06-30 23:00       DK1                111   65920.0\n",
      "1  2023-06-30 21:00:00  2023-06-30 23:00       DK2                111   47018.0\n",
      "2  2023-06-30 21:00:00  2023-06-30 23:00       DK1                112    1313.0\n",
      "3  2023-06-30 21:00:00  2023-06-30 23:00       DK2                112     933.0\n",
      "4  2023-06-30 21:00:00  2023-06-30 23:00       DK1                119   21806.0\n"
     ]
    }
   ],
   "source": [
    "print(df.head().to_string())"
   ]
  },
  {
   "cell_type": "markdown",
   "metadata": {},
   "source": [
    "### Preprocess Pipeline"
   ]
  },
  {
   "cell_type": "code",
   "execution_count": 3,
   "metadata": {},
   "outputs": [],
   "source": [
    "import pandas as pd\n",
    "from sklearn.base import BaseEstimator, TransformerMixin\n",
    "from sklearn.preprocessing import LabelEncoder\n",
    "from sklearn.pipeline import Pipeline\n",
    "\n",
    "class TimeSeriesPreprocessor(BaseEstimator, TransformerMixin):\n",
    "    def fit(self, X, y=None):\n",
    "        # Fit label encoders\n",
    "        self.label_encoders = {}\n",
    "        for col in ['PriceArea', 'ConsumerType_DE35']:\n",
    "            label_encoder = LabelEncoder()\n",
    "            label_encoder.fit(X[col])\n",
    "            self.label_encoders[col] = label_encoder\n",
    "        return self\n",
    "    \n",
    "    def transform(self, X):\n",
    "        # Copy the original DataFrame to avoid modifying it\n",
    "        processed_df = X.copy()\n",
    "        \n",
    "        # Convert 'HourUTC' and 'HourDK' columns to datetime data type\n",
    "        processed_df['HourUTC'] = pd.to_datetime(processed_df['HourUTC'])\n",
    "        processed_df['HourDK'] = pd.to_datetime(processed_df['HourDK'])\n",
    "        \n",
    "        # convert to int64 due to XGBoost not support datetime\n",
    "        processed_df['HourUTC'] = processed_df['HourUTC'].astype('int64')\n",
    "        processed_df['HourDK'] = processed_df['HourDK'].astype('int64')\n",
    "        \n",
    "        # Ensure 'TotalCon' is of float data type\n",
    "        # processed_df['TotalCon'] = processed_df['TotalCon'].astype(float) // 10**9.\n",
    "        processed_df['TotalCon'] = processed_df['TotalCon'].astype(float) // 10**3.\n",
    "        \n",
    "        # Encode categorical columns using the fitted label encoders\n",
    "        for col in ['PriceArea', 'ConsumerType_DE35']:\n",
    "            processed_df[col] = self.label_encoders[col].transform(processed_df[col])\n",
    "        \n",
    "        return processed_df\n"
   ]
  },
  {
   "cell_type": "markdown",
   "metadata": {},
   "source": [
    "#### Test class "
   ]
  },
  {
   "cell_type": "code",
   "execution_count": 4,
   "metadata": {},
   "outputs": [
    {
     "data": {
      "text/html": [
       "<div>\n",
       "<style scoped>\n",
       "    .dataframe tbody tr th:only-of-type {\n",
       "        vertical-align: middle;\n",
       "    }\n",
       "\n",
       "    .dataframe tbody tr th {\n",
       "        vertical-align: top;\n",
       "    }\n",
       "\n",
       "    .dataframe thead th {\n",
       "        text-align: right;\n",
       "    }\n",
       "</style>\n",
       "<table border=\"1\" class=\"dataframe\">\n",
       "  <thead>\n",
       "    <tr style=\"text-align: right;\">\n",
       "      <th></th>\n",
       "      <th>HourUTC</th>\n",
       "      <th>HourDK</th>\n",
       "      <th>PriceArea</th>\n",
       "      <th>ConsumerType_DE35</th>\n",
       "      <th>TotalCon</th>\n",
       "    </tr>\n",
       "  </thead>\n",
       "  <tbody>\n",
       "    <tr>\n",
       "      <th>0</th>\n",
       "      <td>1688158800000000000</td>\n",
       "      <td>1688166000000000000</td>\n",
       "      <td>0</td>\n",
       "      <td>0</td>\n",
       "      <td>65.0</td>\n",
       "    </tr>\n",
       "    <tr>\n",
       "      <th>1</th>\n",
       "      <td>1688158800000000000</td>\n",
       "      <td>1688166000000000000</td>\n",
       "      <td>1</td>\n",
       "      <td>0</td>\n",
       "      <td>47.0</td>\n",
       "    </tr>\n",
       "    <tr>\n",
       "      <th>2</th>\n",
       "      <td>1688158800000000000</td>\n",
       "      <td>1688166000000000000</td>\n",
       "      <td>0</td>\n",
       "      <td>1</td>\n",
       "      <td>1.0</td>\n",
       "    </tr>\n",
       "    <tr>\n",
       "      <th>3</th>\n",
       "      <td>1688158800000000000</td>\n",
       "      <td>1688166000000000000</td>\n",
       "      <td>1</td>\n",
       "      <td>1</td>\n",
       "      <td>0.0</td>\n",
       "    </tr>\n",
       "    <tr>\n",
       "      <th>4</th>\n",
       "      <td>1688158800000000000</td>\n",
       "      <td>1688166000000000000</td>\n",
       "      <td>0</td>\n",
       "      <td>2</td>\n",
       "      <td>21.0</td>\n",
       "    </tr>\n",
       "    <tr>\n",
       "      <th>...</th>\n",
       "      <td>...</td>\n",
       "      <td>...</td>\n",
       "      <td>...</td>\n",
       "      <td>...</td>\n",
       "      <td>...</td>\n",
       "    </tr>\n",
       "    <tr>\n",
       "      <th>1183317</th>\n",
       "      <td>1632110400000000000</td>\n",
       "      <td>1632117600000000000</td>\n",
       "      <td>1</td>\n",
       "      <td>35</td>\n",
       "      <td>41.0</td>\n",
       "    </tr>\n",
       "    <tr>\n",
       "      <th>1183318</th>\n",
       "      <td>1632110400000000000</td>\n",
       "      <td>1632117600000000000</td>\n",
       "      <td>1</td>\n",
       "      <td>36</td>\n",
       "      <td>15.0</td>\n",
       "    </tr>\n",
       "    <tr>\n",
       "      <th>1183319</th>\n",
       "      <td>1632110400000000000</td>\n",
       "      <td>1632117600000000000</td>\n",
       "      <td>1</td>\n",
       "      <td>37</td>\n",
       "      <td>422.0</td>\n",
       "    </tr>\n",
       "    <tr>\n",
       "      <th>1183320</th>\n",
       "      <td>1632106800000000000</td>\n",
       "      <td>1632114000000000000</td>\n",
       "      <td>0</td>\n",
       "      <td>0</td>\n",
       "      <td>48.0</td>\n",
       "    </tr>\n",
       "    <tr>\n",
       "      <th>1183321</th>\n",
       "      <td>1632106800000000000</td>\n",
       "      <td>1632114000000000000</td>\n",
       "      <td>0</td>\n",
       "      <td>1</td>\n",
       "      <td>1.0</td>\n",
       "    </tr>\n",
       "  </tbody>\n",
       "</table>\n",
       "<p>1183322 rows × 5 columns</p>\n",
       "</div>"
      ],
      "text/plain": [
       "                     HourUTC               HourDK  PriceArea  \\\n",
       "0        1688158800000000000  1688166000000000000          0   \n",
       "1        1688158800000000000  1688166000000000000          1   \n",
       "2        1688158800000000000  1688166000000000000          0   \n",
       "3        1688158800000000000  1688166000000000000          1   \n",
       "4        1688158800000000000  1688166000000000000          0   \n",
       "...                      ...                  ...        ...   \n",
       "1183317  1632110400000000000  1632117600000000000          1   \n",
       "1183318  1632110400000000000  1632117600000000000          1   \n",
       "1183319  1632110400000000000  1632117600000000000          1   \n",
       "1183320  1632106800000000000  1632114000000000000          0   \n",
       "1183321  1632106800000000000  1632114000000000000          0   \n",
       "\n",
       "         ConsumerType_DE35  TotalCon  \n",
       "0                        0      65.0  \n",
       "1                        0      47.0  \n",
       "2                        1       1.0  \n",
       "3                        1       0.0  \n",
       "4                        2      21.0  \n",
       "...                    ...       ...  \n",
       "1183317                 35      41.0  \n",
       "1183318                 36      15.0  \n",
       "1183319                 37     422.0  \n",
       "1183320                  0      48.0  \n",
       "1183321                  1       1.0  \n",
       "\n",
       "[1183322 rows x 5 columns]"
      ]
     },
     "execution_count": 4,
     "metadata": {},
     "output_type": "execute_result"
    }
   ],
   "source": [
    "# Create a scikit-learn pipeline\n",
    "preprocessing_pipeline = Pipeline([\n",
    "    ('preprocessor', TimeSeriesPreprocessor())\n",
    "])\n",
    "\n",
    "# Example usage:\n",
    "# Assuming 'data' is your original DataFrame\n",
    "processed_data = preprocessing_pipeline.fit_transform(df)\n",
    "processed_data"
   ]
  },
  {
   "cell_type": "markdown",
   "metadata": {},
   "source": [
    "## XGBoost\n",
    "\n",
    "\n",
    "**NOTE:** I may perform some error on feature engineering"
   ]
  },
  {
   "cell_type": "code",
   "execution_count": 11,
   "metadata": {},
   "outputs": [],
   "source": [
    "import xgboost as xgb\n",
    "from sklearn.metrics import mean_squared_error\n",
    "from sklearn.model_selection import train_test_split\n",
    "import matplotlib.pyplot as plt"
   ]
  },
  {
   "cell_type": "code",
   "execution_count": 12,
   "metadata": {},
   "outputs": [],
   "source": [
    "import os \n",
    "MODEL_FOLDER = \"./models/xgb/\" \n",
    "os.makedirs(MODEL_FOLDER, exist_ok=True)"
   ]
  },
  {
   "cell_type": "markdown",
   "metadata": {},
   "source": [
    "### Class Create Lag Features"
   ]
  },
  {
   "cell_type": "code",
   "execution_count": 13,
   "metadata": {},
   "outputs": [],
   "source": [
    "import pandas as pd\n",
    "from sklearn.base import BaseEstimator, TransformerMixin\n",
    "\n",
    "class LagFeatureGenerator(BaseEstimator, TransformerMixin):\n",
    "    def __init__(self, lag: int = 1, warn_on_na: bool = False, drop_na: bool = False):\n",
    "        self.lag = lag\n",
    "        self.warn_on_na = warn_on_na\n",
    "        self.drop_na = drop_na\n",
    "    \n",
    "    def fit(self, X: pd.DataFrame, y=None):\n",
    "        return self\n",
    "    \n",
    "    def transform(self, X: pd.DataFrame) -> pd.DataFrame:\n",
    "        lagged_data = X.copy()\n",
    "        for i in range(1, self.lag + 1):\n",
    "            lagged_column = lagged_data.groupby('PriceArea')['TotalCon'].transform(lambda x: x.shift(i))\n",
    "            if self.warn_on_na and lagged_column.isna().any():\n",
    "                print(f\"Warning: NaN values detected in TotalCon_Lag_{i} column.\")\n",
    "            \n",
    "            lagged_data[f'TotalCon_Lag_{i}'] = lagged_column\n",
    "        \n",
    "        if self.drop_na:\n",
    "            print(f\"Warning: Auto drop NA values enabled.\")\n",
    "            lagged_data = lagged_data.dropna()\n",
    "        \n",
    "        return lagged_data\n"
   ]
  },
  {
   "cell_type": "markdown",
   "metadata": {},
   "source": [
    "##### Test class"
   ]
  },
  {
   "cell_type": "code",
   "execution_count": 14,
   "metadata": {},
   "outputs": [],
   "source": [
    "# Create a scikit-learn pipeline with preprocessing and lag feature generation\n",
    "preprocessing_pipeline = Pipeline([\n",
    "    ('preprocessor', TimeSeriesPreprocessor()),\n",
    "    ('lag_feature_generator', LagFeatureGenerator(\n",
    "        lag=3,\n",
    "        warn_on_na=True,\n",
    "        drop_na=True\n",
    "    ))\n",
    "])"
   ]
  },
  {
   "cell_type": "code",
   "execution_count": 15,
   "metadata": {},
   "outputs": [
    {
     "name": "stdout",
     "output_type": "stream",
     "text": [
      "Warning: NaN values detected in TotalCon_Lag_1 column.\n",
      "Warning: NaN values detected in TotalCon_Lag_2 column.\n",
      "Warning: NaN values detected in TotalCon_Lag_3 column.\n",
      "Warning: Auto drop NA values enabled.\n"
     ]
    }
   ],
   "source": [
    "processed_data = preprocessing_pipeline.fit_transform(df)"
   ]
  },
  {
   "cell_type": "code",
   "execution_count": 16,
   "metadata": {},
   "outputs": [
    {
     "data": {
      "text/html": [
       "<div>\n",
       "<style scoped>\n",
       "    .dataframe tbody tr th:only-of-type {\n",
       "        vertical-align: middle;\n",
       "    }\n",
       "\n",
       "    .dataframe tbody tr th {\n",
       "        vertical-align: top;\n",
       "    }\n",
       "\n",
       "    .dataframe thead th {\n",
       "        text-align: right;\n",
       "    }\n",
       "</style>\n",
       "<table border=\"1\" class=\"dataframe\">\n",
       "  <thead>\n",
       "    <tr style=\"text-align: right;\">\n",
       "      <th></th>\n",
       "      <th>HourUTC</th>\n",
       "      <th>HourDK</th>\n",
       "      <th>PriceArea</th>\n",
       "      <th>ConsumerType_DE35</th>\n",
       "      <th>TotalCon</th>\n",
       "      <th>TotalCon_Lag_1</th>\n",
       "      <th>TotalCon_Lag_2</th>\n",
       "      <th>TotalCon_Lag_3</th>\n",
       "    </tr>\n",
       "  </thead>\n",
       "  <tbody>\n",
       "    <tr>\n",
       "      <th>6</th>\n",
       "      <td>1688158800000000000</td>\n",
       "      <td>1688166000000000000</td>\n",
       "      <td>0</td>\n",
       "      <td>3</td>\n",
       "      <td>222.0</td>\n",
       "      <td>21.0</td>\n",
       "      <td>1.0</td>\n",
       "      <td>65.0</td>\n",
       "    </tr>\n",
       "    <tr>\n",
       "      <th>7</th>\n",
       "      <td>1688158800000000000</td>\n",
       "      <td>1688166000000000000</td>\n",
       "      <td>1</td>\n",
       "      <td>3</td>\n",
       "      <td>113.0</td>\n",
       "      <td>26.0</td>\n",
       "      <td>0.0</td>\n",
       "      <td>47.0</td>\n",
       "    </tr>\n",
       "    <tr>\n",
       "      <th>8</th>\n",
       "      <td>1688158800000000000</td>\n",
       "      <td>1688166000000000000</td>\n",
       "      <td>0</td>\n",
       "      <td>4</td>\n",
       "      <td>25.0</td>\n",
       "      <td>222.0</td>\n",
       "      <td>21.0</td>\n",
       "      <td>1.0</td>\n",
       "    </tr>\n",
       "    <tr>\n",
       "      <th>9</th>\n",
       "      <td>1688158800000000000</td>\n",
       "      <td>1688166000000000000</td>\n",
       "      <td>1</td>\n",
       "      <td>4</td>\n",
       "      <td>24.0</td>\n",
       "      <td>113.0</td>\n",
       "      <td>26.0</td>\n",
       "      <td>0.0</td>\n",
       "    </tr>\n",
       "    <tr>\n",
       "      <th>10</th>\n",
       "      <td>1688158800000000000</td>\n",
       "      <td>1688166000000000000</td>\n",
       "      <td>0</td>\n",
       "      <td>5</td>\n",
       "      <td>12.0</td>\n",
       "      <td>25.0</td>\n",
       "      <td>222.0</td>\n",
       "      <td>21.0</td>\n",
       "    </tr>\n",
       "    <tr>\n",
       "      <th>...</th>\n",
       "      <td>...</td>\n",
       "      <td>...</td>\n",
       "      <td>...</td>\n",
       "      <td>...</td>\n",
       "      <td>...</td>\n",
       "      <td>...</td>\n",
       "      <td>...</td>\n",
       "      <td>...</td>\n",
       "    </tr>\n",
       "    <tr>\n",
       "      <th>1183317</th>\n",
       "      <td>1632110400000000000</td>\n",
       "      <td>1632117600000000000</td>\n",
       "      <td>1</td>\n",
       "      <td>35</td>\n",
       "      <td>41.0</td>\n",
       "      <td>5.0</td>\n",
       "      <td>24.0</td>\n",
       "      <td>24.0</td>\n",
       "    </tr>\n",
       "    <tr>\n",
       "      <th>1183318</th>\n",
       "      <td>1632110400000000000</td>\n",
       "      <td>1632117600000000000</td>\n",
       "      <td>1</td>\n",
       "      <td>36</td>\n",
       "      <td>15.0</td>\n",
       "      <td>41.0</td>\n",
       "      <td>5.0</td>\n",
       "      <td>24.0</td>\n",
       "    </tr>\n",
       "    <tr>\n",
       "      <th>1183319</th>\n",
       "      <td>1632110400000000000</td>\n",
       "      <td>1632117600000000000</td>\n",
       "      <td>1</td>\n",
       "      <td>37</td>\n",
       "      <td>422.0</td>\n",
       "      <td>15.0</td>\n",
       "      <td>41.0</td>\n",
       "      <td>5.0</td>\n",
       "    </tr>\n",
       "    <tr>\n",
       "      <th>1183320</th>\n",
       "      <td>1632106800000000000</td>\n",
       "      <td>1632114000000000000</td>\n",
       "      <td>0</td>\n",
       "      <td>0</td>\n",
       "      <td>48.0</td>\n",
       "      <td>803.0</td>\n",
       "      <td>2.0</td>\n",
       "      <td>2.0</td>\n",
       "    </tr>\n",
       "    <tr>\n",
       "      <th>1183321</th>\n",
       "      <td>1632106800000000000</td>\n",
       "      <td>1632114000000000000</td>\n",
       "      <td>0</td>\n",
       "      <td>1</td>\n",
       "      <td>1.0</td>\n",
       "      <td>48.0</td>\n",
       "      <td>803.0</td>\n",
       "      <td>2.0</td>\n",
       "    </tr>\n",
       "  </tbody>\n",
       "</table>\n",
       "<p>1183316 rows × 8 columns</p>\n",
       "</div>"
      ],
      "text/plain": [
       "                     HourUTC               HourDK  PriceArea  \\\n",
       "6        1688158800000000000  1688166000000000000          0   \n",
       "7        1688158800000000000  1688166000000000000          1   \n",
       "8        1688158800000000000  1688166000000000000          0   \n",
       "9        1688158800000000000  1688166000000000000          1   \n",
       "10       1688158800000000000  1688166000000000000          0   \n",
       "...                      ...                  ...        ...   \n",
       "1183317  1632110400000000000  1632117600000000000          1   \n",
       "1183318  1632110400000000000  1632117600000000000          1   \n",
       "1183319  1632110400000000000  1632117600000000000          1   \n",
       "1183320  1632106800000000000  1632114000000000000          0   \n",
       "1183321  1632106800000000000  1632114000000000000          0   \n",
       "\n",
       "         ConsumerType_DE35  TotalCon  TotalCon_Lag_1  TotalCon_Lag_2  \\\n",
       "6                        3     222.0            21.0             1.0   \n",
       "7                        3     113.0            26.0             0.0   \n",
       "8                        4      25.0           222.0            21.0   \n",
       "9                        4      24.0           113.0            26.0   \n",
       "10                       5      12.0            25.0           222.0   \n",
       "...                    ...       ...             ...             ...   \n",
       "1183317                 35      41.0             5.0            24.0   \n",
       "1183318                 36      15.0            41.0             5.0   \n",
       "1183319                 37     422.0            15.0            41.0   \n",
       "1183320                  0      48.0           803.0             2.0   \n",
       "1183321                  1       1.0            48.0           803.0   \n",
       "\n",
       "         TotalCon_Lag_3  \n",
       "6                  65.0  \n",
       "7                  47.0  \n",
       "8                   1.0  \n",
       "9                   0.0  \n",
       "10                 21.0  \n",
       "...                 ...  \n",
       "1183317            24.0  \n",
       "1183318            24.0  \n",
       "1183319             5.0  \n",
       "1183320             2.0  \n",
       "1183321             2.0  \n",
       "\n",
       "[1183316 rows x 8 columns]"
      ]
     },
     "execution_count": 16,
     "metadata": {},
     "output_type": "execute_result"
    }
   ],
   "source": [
    "processed_data"
   ]
  },
  {
   "cell_type": "code",
   "execution_count": 17,
   "metadata": {},
   "outputs": [
    {
     "name": "stdout",
     "output_type": "stream",
     "text": [
      "HourUTC                int64\n",
      "HourDK                 int64\n",
      "PriceArea              int64\n",
      "ConsumerType_DE35      int64\n",
      "TotalCon             float64\n",
      "TotalCon_Lag_1       float64\n",
      "TotalCon_Lag_2       float64\n",
      "TotalCon_Lag_3       float64\n",
      "dtype: object\n"
     ]
    }
   ],
   "source": [
    "# Check the data types of each column\n",
    "column_types = processed_data.dtypes\n",
    "print(column_types)"
   ]
  },
  {
   "cell_type": "markdown",
   "metadata": {},
   "source": [
    "### Build Model & Pipeline "
   ]
  },
  {
   "cell_type": "markdown",
   "metadata": {},
   "source": [
    "#### Lag = 3 "
   ]
  },
  {
   "cell_type": "code",
   "execution_count": 18,
   "metadata": {},
   "outputs": [],
   "source": [
    "from xgboost import XGBRegressor"
   ]
  },
  {
   "cell_type": "code",
   "execution_count": 19,
   "metadata": {},
   "outputs": [],
   "source": [
    "LAG = 3 \n",
    "N_ESTIMATORS = 100\n",
    "RANDOM_STATE = 42\n",
    "WARN_ON_NA = True \n",
    "DROP_NA = True "
   ]
  },
  {
   "cell_type": "code",
   "execution_count": 20,
   "metadata": {},
   "outputs": [],
   "source": [
    "# Create a pipeline that includes preprocessing and modeling, and perform train-test split\n",
    "preprocessing_pipeline = Pipeline([\n",
    "    ('preprocessor', TimeSeriesPreprocessor()),\n",
    "    ('lag_feature_generator', LagFeatureGenerator(\n",
    "        lag=LAG,\n",
    "        warn_on_na=WARN_ON_NA,\n",
    "        drop_na=DROP_NA\n",
    "    ))\n",
    "])\n"
   ]
  },
  {
   "cell_type": "code",
   "execution_count": 21,
   "metadata": {},
   "outputs": [
    {
     "name": "stdout",
     "output_type": "stream",
     "text": [
      "Warning: NaN values detected in TotalCon_Lag_1 column.\n",
      "Warning: NaN values detected in TotalCon_Lag_2 column.\n",
      "Warning: NaN values detected in TotalCon_Lag_3 column.\n",
      "Warning: Auto drop NA values enabled.\n"
     ]
    }
   ],
   "source": [
    "transformed_data = preprocessing_pipeline.fit_transform(df)"
   ]
  },
  {
   "cell_type": "code",
   "execution_count": 22,
   "metadata": {},
   "outputs": [],
   "source": [
    "# Split the data into features (X) and the target variable (y)\n",
    "y = transformed_data['TotalCon']\n",
    "X = transformed_data.drop(columns=['TotalCon'])\n",
    "\n",
    "# Split the data into training and testing sets within the pipeline\n",
    "X_train, X_test, y_train, y_test = train_test_split(\n",
    "                                        X, \n",
    "                                        y, \n",
    "                                        test_size=0.2, \n",
    "                                        random_state=RANDOM_STATE\n",
    "                                )\n"
   ]
  },
  {
   "cell_type": "code",
   "execution_count": 23,
   "metadata": {},
   "outputs": [
    {
     "data": {
      "text/html": [
       "<div>\n",
       "<style scoped>\n",
       "    .dataframe tbody tr th:only-of-type {\n",
       "        vertical-align: middle;\n",
       "    }\n",
       "\n",
       "    .dataframe tbody tr th {\n",
       "        vertical-align: top;\n",
       "    }\n",
       "\n",
       "    .dataframe thead th {\n",
       "        text-align: right;\n",
       "    }\n",
       "</style>\n",
       "<table border=\"1\" class=\"dataframe\">\n",
       "  <thead>\n",
       "    <tr style=\"text-align: right;\">\n",
       "      <th></th>\n",
       "      <th>HourUTC</th>\n",
       "      <th>HourDK</th>\n",
       "      <th>PriceArea</th>\n",
       "      <th>ConsumerType_DE35</th>\n",
       "      <th>TotalCon_Lag_1</th>\n",
       "      <th>TotalCon_Lag_2</th>\n",
       "      <th>TotalCon_Lag_3</th>\n",
       "    </tr>\n",
       "  </thead>\n",
       "  <tbody>\n",
       "    <tr>\n",
       "      <th>472342</th>\n",
       "      <td>1665784800000000000</td>\n",
       "      <td>1665792000000000000</td>\n",
       "      <td>0</td>\n",
       "      <td>2</td>\n",
       "      <td>1.0</td>\n",
       "      <td>60.0</td>\n",
       "      <td>660.0</td>\n",
       "    </tr>\n",
       "    <tr>\n",
       "      <th>674460</th>\n",
       "      <td>1656212400000000000</td>\n",
       "      <td>1656219600000000000</td>\n",
       "      <td>0</td>\n",
       "      <td>36</td>\n",
       "      <td>2.0</td>\n",
       "      <td>0.0</td>\n",
       "      <td>13.0</td>\n",
       "    </tr>\n",
       "    <tr>\n",
       "      <th>640909</th>\n",
       "      <td>1657800000000000000</td>\n",
       "      <td>1657807200000000000</td>\n",
       "      <td>0</td>\n",
       "      <td>1</td>\n",
       "      <td>79.0</td>\n",
       "      <td>943.0</td>\n",
       "      <td>2.0</td>\n",
       "    </tr>\n",
       "    <tr>\n",
       "      <th>858378</th>\n",
       "      <td>1647500400000000000</td>\n",
       "      <td>1647504000000000000</td>\n",
       "      <td>0</td>\n",
       "      <td>34</td>\n",
       "      <td>33.0</td>\n",
       "      <td>28.0</td>\n",
       "      <td>40.0</td>\n",
       "    </tr>\n",
       "    <tr>\n",
       "      <th>231740</th>\n",
       "      <td>1677182400000000000</td>\n",
       "      <td>1677186000000000000</td>\n",
       "      <td>0</td>\n",
       "      <td>16</td>\n",
       "      <td>54.0</td>\n",
       "      <td>11.0</td>\n",
       "      <td>11.0</td>\n",
       "    </tr>\n",
       "  </tbody>\n",
       "</table>\n",
       "</div>"
      ],
      "text/plain": [
       "                    HourUTC               HourDK  PriceArea  \\\n",
       "472342  1665784800000000000  1665792000000000000          0   \n",
       "674460  1656212400000000000  1656219600000000000          0   \n",
       "640909  1657800000000000000  1657807200000000000          0   \n",
       "858378  1647500400000000000  1647504000000000000          0   \n",
       "231740  1677182400000000000  1677186000000000000          0   \n",
       "\n",
       "        ConsumerType_DE35  TotalCon_Lag_1  TotalCon_Lag_2  TotalCon_Lag_3  \n",
       "472342                  2             1.0            60.0           660.0  \n",
       "674460                 36             2.0             0.0            13.0  \n",
       "640909                  1            79.0           943.0             2.0  \n",
       "858378                 34            33.0            28.0            40.0  \n",
       "231740                 16            54.0            11.0            11.0  "
      ]
     },
     "execution_count": 23,
     "metadata": {},
     "output_type": "execute_result"
    }
   ],
   "source": [
    "X_train.head()"
   ]
  },
  {
   "cell_type": "code",
   "execution_count": 24,
   "metadata": {},
   "outputs": [
    {
     "data": {
      "text/plain": [
       "6     222.0\n",
       "7     113.0\n",
       "8      25.0\n",
       "9      24.0\n",
       "10     12.0\n",
       "Name: TotalCon, dtype: float64"
      ]
     },
     "execution_count": 24,
     "metadata": {},
     "output_type": "execute_result"
    }
   ],
   "source": [
    "y.head()"
   ]
  },
  {
   "cell_type": "code",
   "execution_count": 25,
   "metadata": {},
   "outputs": [],
   "source": [
    "model = XGBRegressor(n_estimators=100, random_state=42, enable_categorical=True)"
   ]
  },
  {
   "cell_type": "code",
   "execution_count": 26,
   "metadata": {},
   "outputs": [
    {
     "name": "stderr",
     "output_type": "stream",
     "text": [
      "/media/ubuntu_data/cs2215-ECD-mlops/.venv/lib/python3.10/site-packages/xgboost/data.py:335: FutureWarning: is_sparse is deprecated and will be removed in a future version. Check `isinstance(dtype, pd.SparseDtype)` instead.\n",
      "  if is_sparse(dtype):\n",
      "/media/ubuntu_data/cs2215-ECD-mlops/.venv/lib/python3.10/site-packages/xgboost/data.py:338: FutureWarning: is_categorical_dtype is deprecated and will be removed in a future version. Use isinstance(dtype, CategoricalDtype) instead\n",
      "  is_categorical_dtype(dtype) or is_pa_ext_categorical_dtype(dtype)\n",
      "/media/ubuntu_data/cs2215-ECD-mlops/.venv/lib/python3.10/site-packages/xgboost/data.py:384: FutureWarning: is_categorical_dtype is deprecated and will be removed in a future version. Use isinstance(dtype, CategoricalDtype) instead\n",
      "  if is_categorical_dtype(dtype):\n",
      "/media/ubuntu_data/cs2215-ECD-mlops/.venv/lib/python3.10/site-packages/xgboost/data.py:359: FutureWarning: is_categorical_dtype is deprecated and will be removed in a future version. Use isinstance(dtype, CategoricalDtype) instead\n",
      "  return is_int or is_bool or is_float or is_categorical_dtype(dtype)\n",
      "/media/ubuntu_data/cs2215-ECD-mlops/.venv/lib/python3.10/site-packages/xgboost/data.py:520: FutureWarning: is_sparse is deprecated and will be removed in a future version. Check `isinstance(dtype, pd.SparseDtype)` instead.\n",
      "  if is_sparse(data):\n"
     ]
    },
    {
     "data": {
      "text/html": [
       "<style>#sk-container-id-1 {color: black;}#sk-container-id-1 pre{padding: 0;}#sk-container-id-1 div.sk-toggleable {background-color: white;}#sk-container-id-1 label.sk-toggleable__label {cursor: pointer;display: block;width: 100%;margin-bottom: 0;padding: 0.3em;box-sizing: border-box;text-align: center;}#sk-container-id-1 label.sk-toggleable__label-arrow:before {content: \"▸\";float: left;margin-right: 0.25em;color: #696969;}#sk-container-id-1 label.sk-toggleable__label-arrow:hover:before {color: black;}#sk-container-id-1 div.sk-estimator:hover label.sk-toggleable__label-arrow:before {color: black;}#sk-container-id-1 div.sk-toggleable__content {max-height: 0;max-width: 0;overflow: hidden;text-align: left;background-color: #f0f8ff;}#sk-container-id-1 div.sk-toggleable__content pre {margin: 0.2em;color: black;border-radius: 0.25em;background-color: #f0f8ff;}#sk-container-id-1 input.sk-toggleable__control:checked~div.sk-toggleable__content {max-height: 200px;max-width: 100%;overflow: auto;}#sk-container-id-1 input.sk-toggleable__control:checked~label.sk-toggleable__label-arrow:before {content: \"▾\";}#sk-container-id-1 div.sk-estimator input.sk-toggleable__control:checked~label.sk-toggleable__label {background-color: #d4ebff;}#sk-container-id-1 div.sk-label input.sk-toggleable__control:checked~label.sk-toggleable__label {background-color: #d4ebff;}#sk-container-id-1 input.sk-hidden--visually {border: 0;clip: rect(1px 1px 1px 1px);clip: rect(1px, 1px, 1px, 1px);height: 1px;margin: -1px;overflow: hidden;padding: 0;position: absolute;width: 1px;}#sk-container-id-1 div.sk-estimator {font-family: monospace;background-color: #f0f8ff;border: 1px dotted black;border-radius: 0.25em;box-sizing: border-box;margin-bottom: 0.5em;}#sk-container-id-1 div.sk-estimator:hover {background-color: #d4ebff;}#sk-container-id-1 div.sk-parallel-item::after {content: \"\";width: 100%;border-bottom: 1px solid gray;flex-grow: 1;}#sk-container-id-1 div.sk-label:hover label.sk-toggleable__label {background-color: #d4ebff;}#sk-container-id-1 div.sk-serial::before {content: \"\";position: absolute;border-left: 1px solid gray;box-sizing: border-box;top: 0;bottom: 0;left: 50%;z-index: 0;}#sk-container-id-1 div.sk-serial {display: flex;flex-direction: column;align-items: center;background-color: white;padding-right: 0.2em;padding-left: 0.2em;position: relative;}#sk-container-id-1 div.sk-item {position: relative;z-index: 1;}#sk-container-id-1 div.sk-parallel {display: flex;align-items: stretch;justify-content: center;background-color: white;position: relative;}#sk-container-id-1 div.sk-item::before, #sk-container-id-1 div.sk-parallel-item::before {content: \"\";position: absolute;border-left: 1px solid gray;box-sizing: border-box;top: 0;bottom: 0;left: 50%;z-index: -1;}#sk-container-id-1 div.sk-parallel-item {display: flex;flex-direction: column;z-index: 1;position: relative;background-color: white;}#sk-container-id-1 div.sk-parallel-item:first-child::after {align-self: flex-end;width: 50%;}#sk-container-id-1 div.sk-parallel-item:last-child::after {align-self: flex-start;width: 50%;}#sk-container-id-1 div.sk-parallel-item:only-child::after {width: 0;}#sk-container-id-1 div.sk-dashed-wrapped {border: 1px dashed gray;margin: 0 0.4em 0.5em 0.4em;box-sizing: border-box;padding-bottom: 0.4em;background-color: white;}#sk-container-id-1 div.sk-label label {font-family: monospace;font-weight: bold;display: inline-block;line-height: 1.2em;}#sk-container-id-1 div.sk-label-container {text-align: center;}#sk-container-id-1 div.sk-container {/* jupyter's `normalize.less` sets `[hidden] { display: none; }` but bootstrap.min.css set `[hidden] { display: none !important; }` so we also need the `!important` here to be able to override the default hidden behavior on the sphinx rendered scikit-learn.org. See: https://github.com/scikit-learn/scikit-learn/issues/21755 */display: inline-block !important;position: relative;}#sk-container-id-1 div.sk-text-repr-fallback {display: none;}</style><div id=\"sk-container-id-1\" class=\"sk-top-container\"><div class=\"sk-text-repr-fallback\"><pre>XGBRegressor(base_score=None, booster=None, callbacks=None,\n",
       "             colsample_bylevel=None, colsample_bynode=None,\n",
       "             colsample_bytree=None, device=None, early_stopping_rounds=None,\n",
       "             enable_categorical=True, eval_metric=None, feature_types=None,\n",
       "             gamma=None, grow_policy=None, importance_type=None,\n",
       "             interaction_constraints=None, learning_rate=None, max_bin=None,\n",
       "             max_cat_threshold=None, max_cat_to_onehot=None,\n",
       "             max_delta_step=None, max_depth=None, max_leaves=None,\n",
       "             min_child_weight=None, missing=nan, monotone_constraints=None,\n",
       "             multi_strategy=None, n_estimators=100, n_jobs=None,\n",
       "             num_parallel_tree=None, random_state=42, ...)</pre><b>In a Jupyter environment, please rerun this cell to show the HTML representation or trust the notebook. <br />On GitHub, the HTML representation is unable to render, please try loading this page with nbviewer.org.</b></div><div class=\"sk-container\" hidden><div class=\"sk-item\"><div class=\"sk-estimator sk-toggleable\"><input class=\"sk-toggleable__control sk-hidden--visually\" id=\"sk-estimator-id-1\" type=\"checkbox\" checked><label for=\"sk-estimator-id-1\" class=\"sk-toggleable__label sk-toggleable__label-arrow\">XGBRegressor</label><div class=\"sk-toggleable__content\"><pre>XGBRegressor(base_score=None, booster=None, callbacks=None,\n",
       "             colsample_bylevel=None, colsample_bynode=None,\n",
       "             colsample_bytree=None, device=None, early_stopping_rounds=None,\n",
       "             enable_categorical=True, eval_metric=None, feature_types=None,\n",
       "             gamma=None, grow_policy=None, importance_type=None,\n",
       "             interaction_constraints=None, learning_rate=None, max_bin=None,\n",
       "             max_cat_threshold=None, max_cat_to_onehot=None,\n",
       "             max_delta_step=None, max_depth=None, max_leaves=None,\n",
       "             min_child_weight=None, missing=nan, monotone_constraints=None,\n",
       "             multi_strategy=None, n_estimators=100, n_jobs=None,\n",
       "             num_parallel_tree=None, random_state=42, ...)</pre></div></div></div></div></div>"
      ],
      "text/plain": [
       "XGBRegressor(base_score=None, booster=None, callbacks=None,\n",
       "             colsample_bylevel=None, colsample_bynode=None,\n",
       "             colsample_bytree=None, device=None, early_stopping_rounds=None,\n",
       "             enable_categorical=True, eval_metric=None, feature_types=None,\n",
       "             gamma=None, grow_policy=None, importance_type=None,\n",
       "             interaction_constraints=None, learning_rate=None, max_bin=None,\n",
       "             max_cat_threshold=None, max_cat_to_onehot=None,\n",
       "             max_delta_step=None, max_depth=None, max_leaves=None,\n",
       "             min_child_weight=None, missing=nan, monotone_constraints=None,\n",
       "             multi_strategy=None, n_estimators=100, n_jobs=None,\n",
       "             num_parallel_tree=None, random_state=42, ...)"
      ]
     },
     "execution_count": 26,
     "metadata": {},
     "output_type": "execute_result"
    }
   ],
   "source": [
    "model.fit(X_train, y_train)"
   ]
  },
  {
   "cell_type": "code",
   "execution_count": 27,
   "metadata": {},
   "outputs": [
    {
     "name": "stderr",
     "output_type": "stream",
     "text": [
      "/media/ubuntu_data/cs2215-ECD-mlops/.venv/lib/python3.10/site-packages/xgboost/data.py:335: FutureWarning: is_sparse is deprecated and will be removed in a future version. Check `isinstance(dtype, pd.SparseDtype)` instead.\n",
      "  if is_sparse(dtype):\n",
      "/media/ubuntu_data/cs2215-ECD-mlops/.venv/lib/python3.10/site-packages/xgboost/data.py:338: FutureWarning: is_categorical_dtype is deprecated and will be removed in a future version. Use isinstance(dtype, CategoricalDtype) instead\n",
      "  is_categorical_dtype(dtype) or is_pa_ext_categorical_dtype(dtype)\n",
      "/media/ubuntu_data/cs2215-ECD-mlops/.venv/lib/python3.10/site-packages/xgboost/data.py:384: FutureWarning: is_categorical_dtype is deprecated and will be removed in a future version. Use isinstance(dtype, CategoricalDtype) instead\n",
      "  if is_categorical_dtype(dtype):\n",
      "/media/ubuntu_data/cs2215-ECD-mlops/.venv/lib/python3.10/site-packages/xgboost/data.py:359: FutureWarning: is_categorical_dtype is deprecated and will be removed in a future version. Use isinstance(dtype, CategoricalDtype) instead\n",
      "  return is_int or is_bool or is_float or is_categorical_dtype(dtype)\n"
     ]
    },
    {
     "name": "stdout",
     "output_type": "stream",
     "text": [
      "Mean Absolute Error (MAE): 5.55\n",
      "Mean Squared Error (MSE): 279.31\n",
      "Root Mean Squared Error (RMSE): 16.71\n",
      "R-squared (R2): 0.98\n"
     ]
    },
    {
     "data": {
      "image/png": "[encoded data removed]",
      "text/plain": [
       "<Figure size 640x480 with 1 Axes>"
      ]
     },
     "metadata": {},
     "output_type": "display_data"
    }
   ],
   "source": [
    "# Make predictions on the test data\n",
    "y_pred = model.predict(X_test)\n",
    "\n",
    "# Evaluate the model using metrics\n",
    "mae = mean_absolute_error(y_test, y_pred)\n",
    "mse = mean_squared_error(y_test, y_pred)\n",
    "rmse = mean_squared_error(y_test, y_pred, squared=False)\n",
    "r2 = r2_score(y_test, y_pred)\n",
    "\n",
    "# Print the evaluation metrics\n",
    "print(f'Mean Absolute Error (MAE): {mae:.2f}')\n",
    "print(f'Mean Squared Error (MSE): {mse:.2f}')\n",
    "print(f'Root Mean Squared Error (RMSE): {rmse:.2f}')\n",
    "print(f'R-squared (R2): {r2:.2f}')\n",
    "\n",
    "# Visualize feature importance (if needed)\n",
    "xgb.plot_importance(model)\n",
    "plt.show()"
   ]
  },
  {
   "cell_type": "code",
   "execution_count": 28,
   "metadata": {},
   "outputs": [],
   "source": [
    "model.save_model(fname=f\"{MODEL_FOLDER}/xgbregressor_lag{LAG}.json\")"
   ]
  },
  {
   "cell_type": "markdown",
   "metadata": {},
   "source": [
    "#### Lag = 7 "
   ]
  },
  {
   "cell_type": "code",
   "execution_count": 29,
   "metadata": {},
   "outputs": [],
   "source": [
    "LAG = 7 \n",
    "N_ESTIMATORS = 100\n",
    "RANDOM_STATE = 42\n",
    "WARN_ON_NA = True \n",
    "DROP_NA = True "
   ]
  },
  {
   "cell_type": "code",
   "execution_count": 30,
   "metadata": {},
   "outputs": [
    {
     "name": "stdout",
     "output_type": "stream",
     "text": [
      "Warning: NaN values detected in TotalCon_Lag_1 column.\n",
      "Warning: NaN values detected in TotalCon_Lag_2 column.\n",
      "Warning: NaN values detected in TotalCon_Lag_3 column.\n",
      "Warning: NaN values detected in TotalCon_Lag_4 column.\n",
      "Warning: NaN values detected in TotalCon_Lag_5 column.\n",
      "Warning: NaN values detected in TotalCon_Lag_6 column.\n",
      "Warning: NaN values detected in TotalCon_Lag_7 column.\n",
      "Warning: Auto drop NA values enabled.\n"
     ]
    },
    {
     "name": "stderr",
     "output_type": "stream",
     "text": [
      "/media/ubuntu_data/cs2215-ECD-mlops/.venv/lib/python3.10/site-packages/xgboost/data.py:335: FutureWarning: is_sparse is deprecated and will be removed in a future version. Check `isinstance(dtype, pd.SparseDtype)` instead.\n",
      "  if is_sparse(dtype):\n",
      "/media/ubuntu_data/cs2215-ECD-mlops/.venv/lib/python3.10/site-packages/xgboost/data.py:338: FutureWarning: is_categorical_dtype is deprecated and will be removed in a future version. Use isinstance(dtype, CategoricalDtype) instead\n",
      "  is_categorical_dtype(dtype) or is_pa_ext_categorical_dtype(dtype)\n",
      "/media/ubuntu_data/cs2215-ECD-mlops/.venv/lib/python3.10/site-packages/xgboost/data.py:384: FutureWarning: is_categorical_dtype is deprecated and will be removed in a future version. Use isinstance(dtype, CategoricalDtype) instead\n",
      "  if is_categorical_dtype(dtype):\n",
      "/media/ubuntu_data/cs2215-ECD-mlops/.venv/lib/python3.10/site-packages/xgboost/data.py:359: FutureWarning: is_categorical_dtype is deprecated and will be removed in a future version. Use isinstance(dtype, CategoricalDtype) instead\n",
      "  return is_int or is_bool or is_float or is_categorical_dtype(dtype)\n",
      "/media/ubuntu_data/cs2215-ECD-mlops/.venv/lib/python3.10/site-packages/xgboost/data.py:520: FutureWarning: is_sparse is deprecated and will be removed in a future version. Check `isinstance(dtype, pd.SparseDtype)` instead.\n",
      "  if is_sparse(data):\n",
      "/media/ubuntu_data/cs2215-ECD-mlops/.venv/lib/python3.10/site-packages/xgboost/data.py:335: FutureWarning: is_sparse is deprecated and will be removed in a future version. Check `isinstance(dtype, pd.SparseDtype)` instead.\n",
      "  if is_sparse(dtype):\n",
      "/media/ubuntu_data/cs2215-ECD-mlops/.venv/lib/python3.10/site-packages/xgboost/data.py:338: FutureWarning: is_categorical_dtype is deprecated and will be removed in a future version. Use isinstance(dtype, CategoricalDtype) instead\n",
      "  is_categorical_dtype(dtype) or is_pa_ext_categorical_dtype(dtype)\n",
      "/media/ubuntu_data/cs2215-ECD-mlops/.venv/lib/python3.10/site-packages/xgboost/data.py:384: FutureWarning: is_categorical_dtype is deprecated and will be removed in a future version. Use isinstance(dtype, CategoricalDtype) instead\n",
      "  if is_categorical_dtype(dtype):\n",
      "/media/ubuntu_data/cs2215-ECD-mlops/.venv/lib/python3.10/site-packages/xgboost/data.py:359: FutureWarning: is_categorical_dtype is deprecated and will be removed in a future version. Use isinstance(dtype, CategoricalDtype) instead\n",
      "  return is_int or is_bool or is_float or is_categorical_dtype(dtype)\n"
     ]
    },
    {
     "name": "stdout",
     "output_type": "stream",
     "text": [
      "Mean Absolute Error (MAE): 5.36\n",
      "Mean Squared Error (MSE): 272.31\n",
      "Root Mean Squared Error (RMSE): 16.50\n",
      "R-squared (R2): 0.98\n"
     ]
    },
    {
     "data": {
      "image/png": "[encoded data removed]",
      "text/plain": [
       "<Figure size 640x480 with 1 Axes>"
      ]
     },
     "metadata": {},
     "output_type": "display_data"
    }
   ],
   "source": [
    "# Create a pipeline that includes preprocessing and modeling, and perform train-test split\n",
    "preprocessing_pipeline = Pipeline([\n",
    "    ('preprocessor', TimeSeriesPreprocessor()),\n",
    "    ('lag_feature_generator', LagFeatureGenerator(\n",
    "        lag=LAG,\n",
    "        warn_on_na=WARN_ON_NA,\n",
    "        drop_na=DROP_NA\n",
    "    ))\n",
    "])\n",
    "\n",
    "\n",
    "transformed_data = preprocessing_pipeline.fit_transform(df)\n",
    "\n",
    "# Split the data into features (X) and the target variable (y)\n",
    "y = transformed_data['TotalCon']\n",
    "X = transformed_data.drop(columns=['TotalCon'])\n",
    "\n",
    "# Split the data into training and testing sets within the pipeline\n",
    "X_train, X_test, y_train, y_test = train_test_split(\n",
    "                                        X, \n",
    "                                        y, \n",
    "                                        test_size=0.2, \n",
    "                                        random_state=RANDOM_STATE\n",
    "                                )\n",
    "\n",
    "model = XGBRegressor(\n",
    "    n_estimators=N_ESTIMATORS, \n",
    "    random_state=RANDOM_STATE, \n",
    "    enable_categorical=True\n",
    ")\n",
    "\n",
    "\n",
    "model.fit(X_train, y_train)\n",
    "\n",
    "\n",
    "# Make predictions on the test data\n",
    "y_pred = model.predict(X_test)\n",
    "\n",
    "# Evaluate the model using metrics\n",
    "mae = mean_absolute_error(y_test, y_pred)\n",
    "mse = mean_squared_error(y_test, y_pred)\n",
    "rmse = mean_squared_error(y_test, y_pred, squared=False)\n",
    "r2 = r2_score(y_test, y_pred)\n",
    "\n",
    "# Print the evaluation metrics\n",
    "print(f'Mean Absolute Error (MAE): {mae:.2f}')\n",
    "print(f'Mean Squared Error (MSE): {mse:.2f}')\n",
    "print(f'Root Mean Squared Error (RMSE): {rmse:.2f}')\n",
    "print(f'R-squared (R2): {r2:.2f}')\n",
    "\n",
    "# Visualize feature importance (if needed)\n",
    "xgb.plot_importance(model)\n",
    "plt.show()"
   ]
  },
  {
   "cell_type": "code",
   "execution_count": 31,
   "metadata": {},
   "outputs": [],
   "source": [
    "model.save_model(fname=f\"{MODEL_FOLDER}/xgbregressor_lag{LAG}.json\")"
   ]
  },
  {
   "cell_type": "markdown",
   "metadata": {},
   "source": [
    "#### Lag = 30"
   ]
  },
  {
   "cell_type": "code",
   "execution_count": 32,
   "metadata": {},
   "outputs": [],
   "source": [
    "LAG = 30 \n",
    "N_ESTIMATORS = 100\n",
    "RANDOM_STATE = 42\n",
    "WARN_ON_NA = True \n",
    "DROP_NA = True "
   ]
  },
  {
   "cell_type": "code",
   "execution_count": 33,
   "metadata": {},
   "outputs": [
    {
     "name": "stdout",
     "output_type": "stream",
     "text": [
      "Warning: NaN values detected in TotalCon_Lag_1 column.\n",
      "Warning: NaN values detected in TotalCon_Lag_2 column.\n",
      "Warning: NaN values detected in TotalCon_Lag_3 column.\n",
      "Warning: NaN values detected in TotalCon_Lag_4 column.\n",
      "Warning: NaN values detected in TotalCon_Lag_5 column.\n",
      "Warning: NaN values detected in TotalCon_Lag_6 column.\n",
      "Warning: NaN values detected in TotalCon_Lag_7 column.\n",
      "Warning: NaN values detected in TotalCon_Lag_8 column.\n",
      "Warning: NaN values detected in TotalCon_Lag_9 column.\n",
      "Warning: NaN values detected in TotalCon_Lag_10 column.\n",
      "Warning: NaN values detected in TotalCon_Lag_11 column.\n",
      "Warning: NaN values detected in TotalCon_Lag_12 column.\n",
      "Warning: NaN values detected in TotalCon_Lag_13 column.\n",
      "Warning: NaN values detected in TotalCon_Lag_14 column.\n",
      "Warning: NaN values detected in TotalCon_Lag_15 column.\n",
      "Warning: NaN values detected in TotalCon_Lag_16 column.\n",
      "Warning: NaN values detected in TotalCon_Lag_17 column.\n",
      "Warning: NaN values detected in TotalCon_Lag_18 column.\n",
      "Warning: NaN values detected in TotalCon_Lag_19 column.\n",
      "Warning: NaN values detected in TotalCon_Lag_20 column.\n",
      "Warning: NaN values detected in TotalCon_Lag_21 column.\n",
      "Warning: NaN values detected in TotalCon_Lag_22 column.\n",
      "Warning: NaN values detected in TotalCon_Lag_23 column.\n",
      "Warning: NaN values detected in TotalCon_Lag_24 column.\n",
      "Warning: NaN values detected in TotalCon_Lag_25 column.\n",
      "Warning: NaN values detected in TotalCon_Lag_26 column.\n",
      "Warning: NaN values detected in TotalCon_Lag_27 column.\n",
      "Warning: NaN values detected in TotalCon_Lag_28 column.\n",
      "Warning: NaN values detected in TotalCon_Lag_29 column.\n",
      "Warning: NaN values detected in TotalCon_Lag_30 column.\n",
      "Warning: Auto drop NA values enabled.\n"
     ]
    },
    {
     "name": "stderr",
     "output_type": "stream",
     "text": [
      "/media/ubuntu_data/cs2215-ECD-mlops/.venv/lib/python3.10/site-packages/xgboost/data.py:335: FutureWarning: is_sparse is deprecated and will be removed in a future version. Check `isinstance(dtype, pd.SparseDtype)` instead.\n",
      "  if is_sparse(dtype):\n",
      "/media/ubuntu_data/cs2215-ECD-mlops/.venv/lib/python3.10/site-packages/xgboost/data.py:338: FutureWarning: is_categorical_dtype is deprecated and will be removed in a future version. Use isinstance(dtype, CategoricalDtype) instead\n",
      "  is_categorical_dtype(dtype) or is_pa_ext_categorical_dtype(dtype)\n",
      "/media/ubuntu_data/cs2215-ECD-mlops/.venv/lib/python3.10/site-packages/xgboost/data.py:384: FutureWarning: is_categorical_dtype is deprecated and will be removed in a future version. Use isinstance(dtype, CategoricalDtype) instead\n",
      "  if is_categorical_dtype(dtype):\n",
      "/media/ubuntu_data/cs2215-ECD-mlops/.venv/lib/python3.10/site-packages/xgboost/data.py:359: FutureWarning: is_categorical_dtype is deprecated and will be removed in a future version. Use isinstance(dtype, CategoricalDtype) instead\n",
      "  return is_int or is_bool or is_float or is_categorical_dtype(dtype)\n",
      "/media/ubuntu_data/cs2215-ECD-mlops/.venv/lib/python3.10/site-packages/xgboost/data.py:520: FutureWarning: is_sparse is deprecated and will be removed in a future version. Check `isinstance(dtype, pd.SparseDtype)` instead.\n",
      "  if is_sparse(data):\n",
      "/media/ubuntu_data/cs2215-ECD-mlops/.venv/lib/python3.10/site-packages/xgboost/data.py:335: FutureWarning: is_sparse is deprecated and will be removed in a future version. Check `isinstance(dtype, pd.SparseDtype)` instead.\n",
      "  if is_sparse(dtype):\n",
      "/media/ubuntu_data/cs2215-ECD-mlops/.venv/lib/python3.10/site-packages/xgboost/data.py:338: FutureWarning: is_categorical_dtype is deprecated and will be removed in a future version. Use isinstance(dtype, CategoricalDtype) instead\n",
      "  is_categorical_dtype(dtype) or is_pa_ext_categorical_dtype(dtype)\n",
      "/media/ubuntu_data/cs2215-ECD-mlops/.venv/lib/python3.10/site-packages/xgboost/data.py:384: FutureWarning: is_categorical_dtype is deprecated and will be removed in a future version. Use isinstance(dtype, CategoricalDtype) instead\n",
      "  if is_categorical_dtype(dtype):\n",
      "/media/ubuntu_data/cs2215-ECD-mlops/.venv/lib/python3.10/site-packages/xgboost/data.py:359: FutureWarning: is_categorical_dtype is deprecated and will be removed in a future version. Use isinstance(dtype, CategoricalDtype) instead\n",
      "  return is_int or is_bool or is_float or is_categorical_dtype(dtype)\n"
     ]
    },
    {
     "name": "stdout",
     "output_type": "stream",
     "text": [
      "Mean Absolute Error (MAE): 4.40\n",
      "Mean Squared Error (MSE): 136.94\n",
      "Root Mean Squared Error (RMSE): 11.70\n",
      "R-squared (R2): 0.99\n"
     ]
    },
    {
     "data": {
      "image/png": "[encoded data removed]",
      "text/plain": [
       "<Figure size 640x480 with 1 Axes>"
      ]
     },
     "metadata": {},
     "output_type": "display_data"
    }
   ],
   "source": [
    "# Create a pipeline that includes preprocessing and modeling, and perform train-test split\n",
    "preprocessing_pipeline = Pipeline([\n",
    "    ('preprocessor', TimeSeriesPreprocessor()),\n",
    "    ('lag_feature_generatr', LagFeatureGenerator(\n",
    "        lag=LAG,\n",
    "        warn_on_na=WARN_ON_NA,\n",
    "        drop_na=DROP_NA\n",
    "    ))\n",
    "])\n",
    "\n",
    "\n",
    "transformed_data = preprocessing_pipeline.fit_transform(df)\n",
    "\n",
    "# Split the data into features (X) and the target variable (y)\n",
    "y = transformed_data['TotalCon']\n",
    "X = transformed_data.drop(columns=['TotalCon'])\n",
    "\n",
    "# Split the data into training and testing sets within the pipeline\n",
    "X_train, X_test, y_train, y_test = train_test_split(\n",
    "                                        X, \n",
    "                                        y, \n",
    "                                        test_size=0.2, \n",
    "                                        random_state=RANDOM_STATE\n",
    "                                )\n",
    "\n",
    "model = XGBRegressor(\n",
    "    n_estimators=N_ESTIMATORS, \n",
    "    random_state=RANDOM_STATE, \n",
    "    enable_categorical=True\n",
    ")\n",
    "\n",
    "\n",
    "model.fit(X_train, y_train)\n",
    "\n",
    "\n",
    "\n",
    "# Make predictions on the test data\n",
    "y_pred = model.predict(X_test)\n",
    "\n",
    "# Evaluate the model using metrics\n",
    "mae = mean_absolute_error(y_test, y_pred)\n",
    "mse = mean_squared_error(y_test, y_pred)\n",
    "rmse = mean_squared_error(y_test, y_pred, squared=False)\n",
    "r2 = r2_score(y_test, y_pred)\n",
    "\n",
    "# Print the evaluation metrics\n",
    "print(f'Mean Absolute Error (MAE): {mae:.2f}')\n",
    "print(f'Mean Squared Error (MSE): {mse:.2f}')\n",
    "print(f'Root Mean Squared Error (RMSE): {rmse:.2f}')\n",
    "print(f'R-squared (R2): {r2:.2f}')\n",
    "\n",
    "# Visualize feature importance (if needed)\n",
    "xgb.plot_importance(model)\n",
    "plt.show()\n"
   ]
  },
  {
   "cell_type": "code",
   "execution_count": 34,
   "metadata": {},
   "outputs": [],
   "source": [
    "model.save_model(fname=f\"{MODEL_FOLDER}/xgbregressor_lag{LAG}.json\")"
   ]
  },
  {
   "cell_type": "code",
   "execution_count": null,
   "metadata": {},
   "outputs": [],
   "source": []
  },
  {
   "cell_type": "code",
   "execution_count": null,
   "metadata": {},
   "outputs": [],
   "source": []
  },
  {
   "cell_type": "code",
   "execution_count": null,
   "metadata": {},
   "outputs": [],
   "source": []
  },
  {
   "cell_type": "markdown",
   "metadata": {},
   "source": [
    "## AdaBoost Regressor"
   ]
  },
  {
   "cell_type": "code",
   "execution_count": null,
   "metadata": {},
   "outputs": [],
   "source": []
  },
  {
   "cell_type": "code",
   "execution_count": null,
   "metadata": {},
   "outputs": [],
   "source": []
  },
  {
   "cell_type": "code",
   "execution_count": null,
   "metadata": {},
   "outputs": [],
   "source": []
  },
  {
   "cell_type": "markdown",
   "metadata": {},
   "source": [
    "## ARIMA\n",
    "Time series Analysis"
   ]
  },
  {
   "cell_type": "code",
   "execution_count": null,
   "metadata": {},
   "outputs": [],
   "source": []
  },
  {
   "cell_type": "code",
   "execution_count": null,
   "metadata": {},
   "outputs": [],
   "source": []
  },
  {
   "cell_type": "markdown",
   "metadata": {},
   "source": [
    "## Prophet"
   ]
  },
  {
   "cell_type": "code",
   "execution_count": null,
   "metadata": {},
   "outputs": [],
   "source": []
  },
  {
   "cell_type": "code",
   "execution_count": null,
   "metadata": {},
   "outputs": [],
   "source": []
  },
  {
   "cell_type": "code",
   "execution_count": null,
   "metadata": {},
   "outputs": [],
   "source": []
  },
  {
   "cell_type": "code",
   "execution_count": null,
   "metadata": {},
   "outputs": [],
   "source": []
  },
  {
   "cell_type": "markdown",
   "metadata": {},
   "source": [
    "## LSTM\n"
   ]
  },
  {
   "cell_type": "code",
   "execution_count": null,
   "metadata": {},
   "outputs": [],
   "source": []
  },
  {
   "cell_type": "code",
   "execution_count": null,
   "metadata": {},
   "outputs": [],
   "source": []
  }
 ],
 "metadata": {
  "kernelspec": {
   "display_name": ".venv",
   "language": "python",
   "name": "python3"
  },
  "language_info": {
   "codemirror_mode": {
    "name": "ipython",
    "version": 3
   },
   "file_extension": ".py",
   "mimetype": "text/x-python",
   "name": "python",
   "nbconvert_exporter": "python",
   "pygments_lexer": "ipython3",
   "version": "3.10.6"
  },
  "orig_nbformat": 4
 },
 "nbformat": 4,
 "nbformat_minor": 2
}

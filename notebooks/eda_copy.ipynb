{
 "cells": [
  {
   "cell_type": "code",
   "execution_count": 1,
   "metadata": {},
   "outputs": [],
   "source": [
    "import pandas as pd\n"
   ]
  },
  {
   "cell_type": "code",
   "execution_count": 12,
   "metadata": {},
   "outputs": [
    {
     "name": "stdout",
     "output_type": "stream",
     "text": [
      "(1997280, 5)\n",
      "<class 'pandas.core.frame.DataFrame'>\n",
      "RangeIndex: 1997280 entries, 0 to 1997279\n",
      "Data columns (total 5 columns):\n",
      " #   Column             Dtype \n",
      "---  ------             ----- \n",
      " 0   HourUTC            object\n",
      " 1   HourDK             object\n",
      " 2   PriceArea          object\n",
      " 3   ConsumerType_DE35  int64 \n",
      " 4   TotalCon           int64 \n",
      "dtypes: int64(2), object(3)\n",
      "memory usage: 76.2+ MB\n"
     ]
    }
   ],
   "source": [
    "df = pd.read_csv(\"../data/backup/data_for_project.txt\", sep=\";\")\n",
    "print(df.shape)\n",
    "df.info()\n"
   ]
  },
  {
   "cell_type": "code",
   "execution_count": 11,
   "metadata": {},
   "outputs": [
    {
     "name": "stdout",
     "output_type": "stream",
     "text": [
      "Missing values per column:\n",
      "HourUTC              0\n",
      "HourDK               0\n",
      "PriceArea            0\n",
      "ConsumerType_DE35    0\n",
      "TotalCon             0\n",
      "dtype: int64\n"
     ]
    }
   ],
   "source": [
    "# Check for missing values\n",
    "missing_values = df.isnull().sum()\n",
    "print(\"Missing values per column:\")\n",
    "print(missing_values)"
   ]
  },
  {
   "cell_type": "code",
   "execution_count": 5,
   "metadata": {},
   "outputs": [
    {
     "name": "stdout",
     "output_type": "stream",
     "text": [
      "<class 'pandas.core.frame.DataFrame'>\n",
      "RangeIndex: 1997280 entries, 0 to 1997279\n",
      "Data columns (total 5 columns):\n",
      " #   Column             Dtype \n",
      "---  ------             ----- \n",
      " 0   HourUTC            object\n",
      " 1   HourDK             object\n",
      " 2   PriceArea          object\n",
      " 3   ConsumerType_DE35  int64 \n",
      " 4   TotalCon           int64 \n",
      "dtypes: int64(2), object(3)\n",
      "memory usage: 76.2+ MB\n"
     ]
    }
   ],
   "source": [
    "df = pd.read_csv(\"../data/raw/raw.csv\")\n",
    "df.info()\n"
   ]
  },
  {
   "cell_type": "code",
   "execution_count": 6,
   "metadata": {},
   "outputs": [
    {
     "name": "stdout",
     "output_type": "stream",
     "text": [
      "Missing values per column:\n",
      "HourUTC              0\n",
      "HourDK               0\n",
      "PriceArea            0\n",
      "ConsumerType_DE35    0\n",
      "TotalCon             0\n",
      "dtype: int64\n"
     ]
    }
   ],
   "source": [
    "# Check for missing values\n",
    "missing_values = df.isnull().sum()\n",
    "print(\"Missing values per column:\")\n",
    "print(missing_values)"
   ]
  },
  {
   "cell_type": "code",
   "execution_count": null,
   "metadata": {},
   "outputs": [],
   "source": []
  }
 ],
 "metadata": {
  "kernelspec": {
   "display_name": ".venv",
   "language": "python",
   "name": "python3"
  },
  "language_info": {
   "codemirror_mode": {
    "name": "ipython",
    "version": 3
   },
   "file_extension": ".py",
   "mimetype": "text/x-python",
   "name": "python",
   "nbconvert_exporter": "python",
   "pygments_lexer": "ipython3",
   "version": "3.11.5"
  },
  "orig_nbformat": 4
 },
 "nbformat": 4,
 "nbformat_minor": 2
}

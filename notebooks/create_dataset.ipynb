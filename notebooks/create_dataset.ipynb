{
 "cells": [
  {
   "cell_type": "code",
   "execution_count": 1,
   "metadata": {},
   "outputs": [],
   "source": [
    "from clearml import Dataset\n",
    "import pandas as pd"
   ]
  },
  {
   "cell_type": "code",
   "execution_count": 2,
   "metadata": {},
   "outputs": [
    {
     "name": "stdout",
     "output_type": "stream",
     "text": [
      "ClearML results page: https://app.clear.ml/projects/4fa33699d15d4191b0ca69b27c971921/experiments/d0a3d086a9b941ad90f4d548f8120757/output/log\n",
      "ClearML dataset page: https://app.clear.ml/datasets/simple/4fa33699d15d4191b0ca69b27c971921/experiments/d0a3d086a9b941ad90f4d548f8120757\n"
     ]
    }
   ],
   "source": [
    "# Create a new Dataset\n",
    "ds = Dataset.create(\n",
    "    dataset_name=\"enegy_consumption\",\n",
    "    dataset_project=\"cs2215-project\",\n",
    ")"
   ]
  },
  {
   "cell_type": "code",
   "execution_count": 3,
   "metadata": {},
   "outputs": [],
   "source": [
    "import csv\n",
    "\n",
    "with open(\"../data/data_for_project.txt\", \"r\") as input_file:\n",
    "    with open(\"../data/data_for_project.csv\", \"w\", newline=\"\") as output_file:\n",
    "        reader = csv.reader(input_file, delimiter=\";\")\n",
    "        writer = csv.writer(output_file)\n",
    "        writer.writerows(reader)"
   ]
  },
  {
   "cell_type": "code",
   "execution_count": 4,
   "metadata": {},
   "outputs": [
    {
     "name": "stdout",
     "output_type": "stream",
     "text": [
      "Add data_for_project.csv\n"
     ]
    },
    {
     "data": {
      "text/plain": [
       "1"
      ]
     },
     "execution_count": 4,
     "metadata": {},
     "output_type": "execute_result"
    }
   ],
   "source": [
    "# Sync the Dataset with the files on disk\n",
    "ds.add_files(path=\"../data/data_for_project.csv\", verbose=True)"
   ]
  },
  {
   "cell_type": "code",
   "execution_count": 5,
   "metadata": {},
   "outputs": [
    {
     "name": "stdout",
     "output_type": "stream",
     "text": [
      "Compressing /Users/quantnh/Documents/uit-cloud-computing/cs2215-ECD-mlops/notebooks/../data/data_for_project.csv\n",
      "Uploading dataset changes (1 files compressed to 12.02 MiB) to https://files.clear.ml\n",
      "File compression and upload completed: total size 12.02 MiB, 1 chunk(s) stored (average size 12.02 MiB)\n"
     ]
    },
    {
     "data": {
      "text/plain": [
       "True"
      ]
     },
     "execution_count": 5,
     "metadata": {},
     "output_type": "execute_result"
    }
   ],
   "source": [
    "# Upload the Dataset to the backend\n",
    "ds.upload(verbose=True)\n",
    "\n",
    "# Finalize the Dataset (this will prevent further write operations)\n",
    "ds.finalize()"
   ]
  },
  {
   "cell_type": "code",
   "execution_count": null,
   "metadata": {},
   "outputs": [],
   "source": []
  }
 ],
 "metadata": {
  "kernelspec": {
   "display_name": "mlops",
   "language": "python",
   "name": "python3"
  },
  "language_info": {
   "codemirror_mode": {
    "name": "ipython",
    "version": 3
   },
   "file_extension": ".py",
   "mimetype": "text/x-python",
   "name": "python",
   "nbconvert_exporter": "python",
   "pygments_lexer": "ipython3",
   "version": "3.10.6"
  },
  "orig_nbformat": 4
 },
 "nbformat": 4,
 "nbformat_minor": 2
}

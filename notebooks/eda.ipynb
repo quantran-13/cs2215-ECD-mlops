{
 "cells": [
  {
   "cell_type": "markdown",
   "metadata": {},
   "source": [
    "# Prepare Env"
   ]
  },
  {
   "cell_type": "code",
   "execution_count": 7,
   "metadata": {},
   "outputs": [],
   "source": [
    "import os\n",
    "import pandas as pd"
   ]
  },
  {
   "cell_type": "markdown",
   "metadata": {},
   "source": [
    "# Load Dataset "
   ]
  },
  {
   "cell_type": "code",
   "execution_count": 8,
   "metadata": {},
   "outputs": [],
   "source": [
    "DATA_PATH = \"../data/data_for_project.txt\" "
   ]
  },
  {
   "cell_type": "code",
   "execution_count": 9,
   "metadata": {},
   "outputs": [
    {
     "data": {
      "text/html": [
       "<div>\n",
       "<style scoped>\n",
       "    .dataframe tbody tr th:only-of-type {\n",
       "        vertical-align: middle;\n",
       "    }\n",
       "\n",
       "    .dataframe tbody tr th {\n",
       "        vertical-align: top;\n",
       "    }\n",
       "\n",
       "    .dataframe thead th {\n",
       "        text-align: right;\n",
       "    }\n",
       "</style>\n",
       "<table border=\"1\" class=\"dataframe\">\n",
       "  <thead>\n",
       "    <tr style=\"text-align: right;\">\n",
       "      <th></th>\n",
       "      <th>HourUTC</th>\n",
       "      <th>HourDK</th>\n",
       "      <th>PriceArea</th>\n",
       "      <th>ConsumerType_DE35</th>\n",
       "      <th>TotalCon</th>\n",
       "    </tr>\n",
       "  </thead>\n",
       "  <tbody>\n",
       "    <tr>\n",
       "      <th>0</th>\n",
       "      <td>2023-06-30 21:00</td>\n",
       "      <td>2023-06-30 23:00</td>\n",
       "      <td>DK1</td>\n",
       "      <td>111</td>\n",
       "      <td>65920.0</td>\n",
       "    </tr>\n",
       "    <tr>\n",
       "      <th>1</th>\n",
       "      <td>2023-06-30 21:00</td>\n",
       "      <td>2023-06-30 23:00</td>\n",
       "      <td>DK2</td>\n",
       "      <td>111</td>\n",
       "      <td>47018.0</td>\n",
       "    </tr>\n",
       "    <tr>\n",
       "      <th>2</th>\n",
       "      <td>2023-06-30 21:00</td>\n",
       "      <td>2023-06-30 23:00</td>\n",
       "      <td>DK1</td>\n",
       "      <td>112</td>\n",
       "      <td>1313.0</td>\n",
       "    </tr>\n",
       "    <tr>\n",
       "      <th>3</th>\n",
       "      <td>2023-06-30 21:00</td>\n",
       "      <td>2023-06-30 23:00</td>\n",
       "      <td>DK2</td>\n",
       "      <td>112</td>\n",
       "      <td>933.0</td>\n",
       "    </tr>\n",
       "    <tr>\n",
       "      <th>4</th>\n",
       "      <td>2023-06-30 21:00</td>\n",
       "      <td>2023-06-30 23:00</td>\n",
       "      <td>DK1</td>\n",
       "      <td>119</td>\n",
       "      <td>21806.0</td>\n",
       "    </tr>\n",
       "  </tbody>\n",
       "</table>\n",
       "</div>"
      ],
      "text/plain": [
       "            HourUTC            HourDK PriceArea  ConsumerType_DE35  TotalCon\n",
       "0  2023-06-30 21:00  2023-06-30 23:00       DK1                111   65920.0\n",
       "1  2023-06-30 21:00  2023-06-30 23:00       DK2                111   47018.0\n",
       "2  2023-06-30 21:00  2023-06-30 23:00       DK1                112    1313.0\n",
       "3  2023-06-30 21:00  2023-06-30 23:00       DK2                112     933.0\n",
       "4  2023-06-30 21:00  2023-06-30 23:00       DK1                119   21806.0"
      ]
     },
     "execution_count": 9,
     "metadata": {},
     "output_type": "execute_result"
    }
   ],
   "source": [
    "df = pd.read_csv(DATA_PATH, sep=\";\")\n",
    "df.head()"
   ]
  },
  {
   "cell_type": "markdown",
   "metadata": {},
   "source": [
    "# EDA "
   ]
  },
  {
   "cell_type": "markdown",
   "metadata": {},
   "source": [
    "## Basic Info "
   ]
  },
  {
   "cell_type": "code",
   "execution_count": 10,
   "metadata": {},
   "outputs": [
    {
     "name": "stdout",
     "output_type": "stream",
     "text": [
      "Number of rows: 1183323\n",
      "Number of columns: 5\n",
      "Column names:\n",
      "Index(['HourUTC', 'HourDK', 'PriceArea', 'ConsumerType_DE35', 'TotalCon'], dtype='object')\n",
      "Data types:\n",
      "HourUTC               object\n",
      "HourDK                object\n",
      "PriceArea             object\n",
      "ConsumerType_DE35      int64\n",
      "TotalCon             float64\n",
      "dtype: object\n"
     ]
    }
   ],
   "source": [
    "# Display the number of rows and columns\n",
    "num_rows, num_cols = df.shape\n",
    "print(f\"Number of rows: {num_rows}\")\n",
    "print(f\"Number of columns: {num_cols}\")\n",
    "\n",
    "# Display column names\n",
    "print(\"Column names:\")\n",
    "print(df.columns)\n",
    "\n",
    "# Display data types of each column\n",
    "print(\"Data types:\")\n",
    "print(df.dtypes)\n"
   ]
  },
  {
   "cell_type": "code",
   "execution_count": 11,
   "metadata": {},
   "outputs": [
    {
     "data": {
      "text/html": [
       "<div>\n",
       "<style scoped>\n",
       "    .dataframe tbody tr th:only-of-type {\n",
       "        vertical-align: middle;\n",
       "    }\n",
       "\n",
       "    .dataframe tbody tr th {\n",
       "        vertical-align: top;\n",
       "    }\n",
       "\n",
       "    .dataframe thead th {\n",
       "        text-align: right;\n",
       "    }\n",
       "</style>\n",
       "<table border=\"1\" class=\"dataframe\">\n",
       "  <thead>\n",
       "    <tr style=\"text-align: right;\">\n",
       "      <th></th>\n",
       "      <th>ConsumerType_DE35</th>\n",
       "      <th>TotalCon</th>\n",
       "    </tr>\n",
       "  </thead>\n",
       "  <tbody>\n",
       "    <tr>\n",
       "      <th>count</th>\n",
       "      <td>1.183323e+06</td>\n",
       "      <td>1.183322e+06</td>\n",
       "    </tr>\n",
       "    <tr>\n",
       "      <th>mean</th>\n",
       "      <td>3.488941e+02</td>\n",
       "      <td>5.026788e+04</td>\n",
       "    </tr>\n",
       "    <tr>\n",
       "      <th>std</th>\n",
       "      <td>1.625421e+02</td>\n",
       "      <td>1.273728e+05</td>\n",
       "    </tr>\n",
       "    <tr>\n",
       "      <th>min</th>\n",
       "      <td>1.110000e+02</td>\n",
       "      <td>2.900000e+01</td>\n",
       "    </tr>\n",
       "    <tr>\n",
       "      <th>25%</th>\n",
       "      <td>2.150000e+02</td>\n",
       "      <td>7.455000e+03</td>\n",
       "    </tr>\n",
       "    <tr>\n",
       "      <th>50%</th>\n",
       "      <td>3.810000e+02</td>\n",
       "      <td>2.176600e+04</td>\n",
       "    </tr>\n",
       "    <tr>\n",
       "      <th>75%</th>\n",
       "      <td>4.420000e+02</td>\n",
       "      <td>4.027100e+04</td>\n",
       "    </tr>\n",
       "    <tr>\n",
       "      <th>max</th>\n",
       "      <td>9.990000e+02</td>\n",
       "      <td>1.858539e+06</td>\n",
       "    </tr>\n",
       "  </tbody>\n",
       "</table>\n",
       "</div>"
      ],
      "text/plain": [
       "       ConsumerType_DE35      TotalCon\n",
       "count       1.183323e+06  1.183322e+06\n",
       "mean        3.488941e+02  5.026788e+04\n",
       "std         1.625421e+02  1.273728e+05\n",
       "min         1.110000e+02  2.900000e+01\n",
       "25%         2.150000e+02  7.455000e+03\n",
       "50%         3.810000e+02  2.176600e+04\n",
       "75%         4.420000e+02  4.027100e+04\n",
       "max         9.990000e+02  1.858539e+06"
      ]
     },
     "execution_count": 11,
     "metadata": {},
     "output_type": "execute_result"
    }
   ],
   "source": [
    "df.describe()"
   ]
  },
  {
   "cell_type": "markdown",
   "metadata": {},
   "source": [
    "## Missing Value"
   ]
  },
  {
   "cell_type": "code",
   "execution_count": 12,
   "metadata": {},
   "outputs": [
    {
     "name": "stdout",
     "output_type": "stream",
     "text": [
      "Missing values per column:\n",
      "HourUTC              0\n",
      "HourDK               0\n",
      "PriceArea            0\n",
      "ConsumerType_DE35    0\n",
      "TotalCon             1\n",
      "dtype: int64\n"
     ]
    }
   ],
   "source": [
    "# Check for missing values\n",
    "missing_values = df.isnull().sum()\n",
    "print(\"Missing values per column:\")\n",
    "print(missing_values)\n"
   ]
  },
  {
   "cell_type": "markdown",
   "metadata": {},
   "source": [
    "## Unique Value"
   ]
  },
  {
   "cell_type": "code",
   "execution_count": 13,
   "metadata": {},
   "outputs": [
    {
     "name": "stdout",
     "output_type": "stream",
     "text": [
      "Unique values in categorical columns:\n",
      "HourUTC: ['2023-06-30 21:00' '2023-06-30 20:00' '2023-06-30 19:00' ...\n",
      " '2021-09-20 05:00' '2021-09-20 04:00' '2021-09-20 03:00']\n",
      "HourDK: ['2023-06-30 23:00' '2023-06-30 22:00' '2023-06-30 21:00' ...\n",
      " '2021-09-20 07:00' '2021-09-20 06:00' '2021-09-20 05:00']\n",
      "PriceArea: ['DK1' 'DK2']\n"
     ]
    }
   ],
   "source": [
    "# List unique values in categorical columns\n",
    "print(\"Unique values in categorical columns:\")\n",
    "for column in df.select_dtypes(include=['object']):\n",
    "    unique_values = df[column].unique()\n",
    "    print(f\"{column}: {unique_values}\")\n"
   ]
  },
  {
   "cell_type": "markdown",
   "metadata": {},
   "source": [
    "## Check Duplicate "
   ]
  },
  {
   "cell_type": "code",
   "execution_count": 14,
   "metadata": {},
   "outputs": [
    {
     "data": {
      "text/html": [
       "<div>\n",
       "<style scoped>\n",
       "    .dataframe tbody tr th:only-of-type {\n",
       "        vertical-align: middle;\n",
       "    }\n",
       "\n",
       "    .dataframe tbody tr th {\n",
       "        vertical-align: top;\n",
       "    }\n",
       "\n",
       "    .dataframe thead th {\n",
       "        text-align: right;\n",
       "    }\n",
       "</style>\n",
       "<table border=\"1\" class=\"dataframe\">\n",
       "  <thead>\n",
       "    <tr style=\"text-align: right;\">\n",
       "      <th></th>\n",
       "      <th>HourUTC</th>\n",
       "      <th>HourDK</th>\n",
       "      <th>PriceArea</th>\n",
       "      <th>ConsumerType_DE35</th>\n",
       "      <th>TotalCon</th>\n",
       "    </tr>\n",
       "  </thead>\n",
       "  <tbody>\n",
       "    <tr>\n",
       "      <th>0</th>\n",
       "      <td>2023-06-30 21:00</td>\n",
       "      <td>2023-06-30 23:00</td>\n",
       "      <td>DK1</td>\n",
       "      <td>111</td>\n",
       "      <td>65920.0</td>\n",
       "    </tr>\n",
       "    <tr>\n",
       "      <th>1</th>\n",
       "      <td>2023-06-30 21:00</td>\n",
       "      <td>2023-06-30 23:00</td>\n",
       "      <td>DK2</td>\n",
       "      <td>111</td>\n",
       "      <td>47018.0</td>\n",
       "    </tr>\n",
       "    <tr>\n",
       "      <th>2</th>\n",
       "      <td>2023-06-30 21:00</td>\n",
       "      <td>2023-06-30 23:00</td>\n",
       "      <td>DK1</td>\n",
       "      <td>112</td>\n",
       "      <td>1313.0</td>\n",
       "    </tr>\n",
       "    <tr>\n",
       "      <th>3</th>\n",
       "      <td>2023-06-30 21:00</td>\n",
       "      <td>2023-06-30 23:00</td>\n",
       "      <td>DK2</td>\n",
       "      <td>112</td>\n",
       "      <td>933.0</td>\n",
       "    </tr>\n",
       "    <tr>\n",
       "      <th>4</th>\n",
       "      <td>2023-06-30 21:00</td>\n",
       "      <td>2023-06-30 23:00</td>\n",
       "      <td>DK1</td>\n",
       "      <td>119</td>\n",
       "      <td>21806.0</td>\n",
       "    </tr>\n",
       "  </tbody>\n",
       "</table>\n",
       "</div>"
      ],
      "text/plain": [
       "            HourUTC            HourDK PriceArea  ConsumerType_DE35  TotalCon\n",
       "0  2023-06-30 21:00  2023-06-30 23:00       DK1                111   65920.0\n",
       "1  2023-06-30 21:00  2023-06-30 23:00       DK2                111   47018.0\n",
       "2  2023-06-30 21:00  2023-06-30 23:00       DK1                112    1313.0\n",
       "3  2023-06-30 21:00  2023-06-30 23:00       DK2                112     933.0\n",
       "4  2023-06-30 21:00  2023-06-30 23:00       DK1                119   21806.0"
      ]
     },
     "execution_count": 14,
     "metadata": {},
     "output_type": "execute_result"
    }
   ],
   "source": [
    "# Remove duplicate rows\n",
    "df = df.drop_duplicates()\n",
    "df.head()"
   ]
  },
  {
   "cell_type": "markdown",
   "metadata": {},
   "source": [
    "## Type Conversion  "
   ]
  },
  {
   "cell_type": "code",
   "execution_count": 15,
   "metadata": {},
   "outputs": [
    {
     "data": {
      "text/html": [
       "<div>\n",
       "<style scoped>\n",
       "    .dataframe tbody tr th:only-of-type {\n",
       "        vertical-align: middle;\n",
       "    }\n",
       "\n",
       "    .dataframe tbody tr th {\n",
       "        vertical-align: top;\n",
       "    }\n",
       "\n",
       "    .dataframe thead th {\n",
       "        text-align: right;\n",
       "    }\n",
       "</style>\n",
       "<table border=\"1\" class=\"dataframe\">\n",
       "  <thead>\n",
       "    <tr style=\"text-align: right;\">\n",
       "      <th></th>\n",
       "      <th>HourUTC</th>\n",
       "      <th>HourDK</th>\n",
       "      <th>PriceArea</th>\n",
       "      <th>ConsumerType_DE35</th>\n",
       "      <th>TotalCon</th>\n",
       "    </tr>\n",
       "  </thead>\n",
       "  <tbody>\n",
       "    <tr>\n",
       "      <th>0</th>\n",
       "      <td>2023-06-30 21:00:00</td>\n",
       "      <td>2023-06-30 23:00</td>\n",
       "      <td>DK1</td>\n",
       "      <td>111</td>\n",
       "      <td>65920.0</td>\n",
       "    </tr>\n",
       "    <tr>\n",
       "      <th>1</th>\n",
       "      <td>2023-06-30 21:00:00</td>\n",
       "      <td>2023-06-30 23:00</td>\n",
       "      <td>DK2</td>\n",
       "      <td>111</td>\n",
       "      <td>47018.0</td>\n",
       "    </tr>\n",
       "    <tr>\n",
       "      <th>2</th>\n",
       "      <td>2023-06-30 21:00:00</td>\n",
       "      <td>2023-06-30 23:00</td>\n",
       "      <td>DK1</td>\n",
       "      <td>112</td>\n",
       "      <td>1313.0</td>\n",
       "    </tr>\n",
       "    <tr>\n",
       "      <th>3</th>\n",
       "      <td>2023-06-30 21:00:00</td>\n",
       "      <td>2023-06-30 23:00</td>\n",
       "      <td>DK2</td>\n",
       "      <td>112</td>\n",
       "      <td>933.0</td>\n",
       "    </tr>\n",
       "    <tr>\n",
       "      <th>4</th>\n",
       "      <td>2023-06-30 21:00:00</td>\n",
       "      <td>2023-06-30 23:00</td>\n",
       "      <td>DK1</td>\n",
       "      <td>119</td>\n",
       "      <td>21806.0</td>\n",
       "    </tr>\n",
       "  </tbody>\n",
       "</table>\n",
       "</div>"
      ],
      "text/plain": [
       "              HourUTC            HourDK PriceArea  ConsumerType_DE35  TotalCon\n",
       "0 2023-06-30 21:00:00  2023-06-30 23:00       DK1                111   65920.0\n",
       "1 2023-06-30 21:00:00  2023-06-30 23:00       DK2                111   47018.0\n",
       "2 2023-06-30 21:00:00  2023-06-30 23:00       DK1                112    1313.0\n",
       "3 2023-06-30 21:00:00  2023-06-30 23:00       DK2                112     933.0\n",
       "4 2023-06-30 21:00:00  2023-06-30 23:00       DK1                119   21806.0"
      ]
     },
     "execution_count": 15,
     "metadata": {},
     "output_type": "execute_result"
    }
   ],
   "source": [
    "# Convert a column to datetime if it contains dates\n",
    "df['HourUTC'] = pd.to_datetime(df['HourUTC'])\n",
    "df.head()"
   ]
  },
  {
   "cell_type": "markdown",
   "metadata": {},
   "source": [
    "## Handling Outliers (Optional) "
   ]
  },
  {
   "cell_type": "code",
   "execution_count": 16,
   "metadata": {},
   "outputs": [
    {
     "data": {
      "text/html": [
       "<div>\n",
       "<style scoped>\n",
       "    .dataframe tbody tr th:only-of-type {\n",
       "        vertical-align: middle;\n",
       "    }\n",
       "\n",
       "    .dataframe tbody tr th {\n",
       "        vertical-align: top;\n",
       "    }\n",
       "\n",
       "    .dataframe thead th {\n",
       "        text-align: right;\n",
       "    }\n",
       "</style>\n",
       "<table border=\"1\" class=\"dataframe\">\n",
       "  <thead>\n",
       "    <tr style=\"text-align: right;\">\n",
       "      <th></th>\n",
       "      <th>HourUTC</th>\n",
       "      <th>HourDK</th>\n",
       "      <th>PriceArea</th>\n",
       "      <th>ConsumerType_DE35</th>\n",
       "      <th>TotalCon</th>\n",
       "    </tr>\n",
       "  </thead>\n",
       "  <tbody>\n",
       "  </tbody>\n",
       "</table>\n",
       "</div>"
      ],
      "text/plain": [
       "Empty DataFrame\n",
       "Columns: [HourUTC, HourDK, PriceArea, ConsumerType_DE35, TotalCon]\n",
       "Index: []"
      ]
     },
     "execution_count": 16,
     "metadata": {},
     "output_type": "execute_result"
    }
   ],
   "source": [
    "# Define a function to detect outliers using z-scores and remove them\n",
    "import numpy as np \n",
    "from scipy import stats\n",
    "z_scores = np.abs(stats.zscore(df['TotalCon']))\n",
    "df[(z_scores < 3)]\n"
   ]
  },
  {
   "cell_type": "markdown",
   "metadata": {},
   "source": [
    "# Export data "
   ]
  },
  {
   "cell_type": "code",
   "execution_count": 18,
   "metadata": {},
   "outputs": [],
   "source": [
    "# Save cleaned data to a new CSV file\n",
    "df.to_csv('../data/cleaned_data.csv', index=False)\n"
   ]
  },
  {
   "cell_type": "code",
   "execution_count": null,
   "metadata": {},
   "outputs": [],
   "source": []
  },
  {
   "cell_type": "code",
   "execution_count": null,
   "metadata": {},
   "outputs": [],
   "source": []
  },
  {
   "cell_type": "code",
   "execution_count": null,
   "metadata": {},
   "outputs": [],
   "source": []
  },
  {
   "cell_type": "code",
   "execution_count": null,
   "metadata": {},
   "outputs": [],
   "source": []
  },
  {
   "cell_type": "code",
   "execution_count": null,
   "metadata": {},
   "outputs": [],
   "source": []
  },
  {
   "cell_type": "code",
   "execution_count": null,
   "metadata": {},
   "outputs": [],
   "source": []
  },
  {
   "cell_type": "code",
   "execution_count": null,
   "metadata": {},
   "outputs": [],
   "source": []
  },
  {
   "cell_type": "code",
   "execution_count": null,
   "metadata": {},
   "outputs": [],
   "source": []
  }
 ],
 "metadata": {
  "kernelspec": {
   "display_name": ".venv",
   "language": "python",
   "name": "python3"
  },
  "language_info": {
   "codemirror_mode": {
    "name": "ipython",
    "version": 3
   },
   "file_extension": ".py",
   "mimetype": "text/x-python",
   "name": "python",
   "nbconvert_exporter": "python",
   "pygments_lexer": "ipython3",
   "version": "3.10.6"
  },
  "orig_nbformat": 4
 },
 "nbformat": 4,
 "nbformat_minor": 2
}
